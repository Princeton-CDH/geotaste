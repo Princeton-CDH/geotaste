{
 "cells": [
  {
   "cell_type": "markdown",
   "id": "b4aa69aa-38e7-4e19-ba55-932a2943f96a",
   "metadata": {},
   "source": [
    "# Assessing 1.2 -> 1.3"
   ]
  },
  {
   "cell_type": "code",
   "execution_count": 17,
   "id": "bbfba893-0d96-460b-b42f-a8a3434431d2",
   "metadata": {
    "tags": []
   },
   "outputs": [],
   "source": [
    "import os, sys\n",
    "from collections import defaultdict\n",
    "import pandas as pd"
   ]
  },
  {
   "cell_type": "code",
   "execution_count": 18,
   "id": "e4507357-0fd6-45b0-97b2-36e152e55d58",
   "metadata": {
    "tags": []
   },
   "outputs": [],
   "source": [
    "path_data = '../data'"
   ]
  },
  {
   "cell_type": "code",
   "execution_count": 24,
   "id": "e9f8f0bb-436e-4264-ab61-a4aeeb70b087",
   "metadata": {
    "tags": []
   },
   "outputs": [],
   "source": [
    "dfs = defaultdict(dict)\n",
    "for fns,dirs,root in os.walk(path_data):\n",
    "    for vnum in dirs:\n",
    "        if vnum and vnum[0]!='.':\n",
    "            for fn in os.listdir(os.path.join(path_data,vnum)):\n",
    "                dfs[os.path.splitext(fn)[0]][vnum] = pd.read_csv(os.path.join(path_data, vnum, fn), low_memory=False).fillna('')\n",
    "                "
   ]
  },
  {
   "cell_type": "code",
   "execution_count": 32,
   "id": "d7fb42e4-ed4d-47b7-bfdd-002edfa71a10",
   "metadata": {
    "tags": []
   },
   "outputs": [
    {
     "name": "stdout",
     "output_type": "stream",
     "text": [
      "## Length of dataset versions\n",
      "\n",
      "MEMBERS\n",
      "1.2        5235\n",
      "1.3-beta   5204\n",
      "\n",
      "BOOKS\n",
      "1.2        6020\n",
      "1.3-beta   6020\n",
      "\n",
      "EVENTS\n",
      "1.2        35523\n",
      "1.3-beta   35549\n",
      "\n",
      "LOCATIONS\n",
      "1.3-beta   3228\n",
      "\n"
     ]
    }
   ],
   "source": [
    "print('## Length of dataset versions\\n')\n",
    "for dtype in dfs:\n",
    "    print(dtype.upper())\n",
    "    for vnum in dfs[dtype]:\n",
    "        lenn=len(dfs[dtype][vnum])\n",
    "        print(f'{vnum:10} {lenn}')\n",
    "    print()"
   ]
  },
  {
   "cell_type": "markdown",
   "id": "f8476d86-8e4f-40ff-b30a-f250d7bd64f8",
   "metadata": {},
   "source": [
    "### Specific investigations"
   ]
  },
  {
   "cell_type": "code",
   "execution_count": 39,
   "id": "59f2f846-3f7c-4817-95c3-bf25899b15fe",
   "metadata": {
    "tags": []
   },
   "outputs": [],
   "source": [
    "df_A=dfs['members']['1.2']\n",
    "df_B=dfs['members']['1.3-beta']"
   ]
  },
  {
   "cell_type": "code",
   "execution_count": 92,
   "id": "59b9d399-91dc-4f24-97d9-c96435f254c1",
   "metadata": {
    "tags": []
   },
   "outputs": [],
   "source": [
    "def compare_nation(nation):\n",
    "    num_A = len(df_A[df_A.nationalities.str.contains(nation)])\n",
    "    num_B = len(df_B[df_B.nationalities.str.contains(nation)])\n",
    "    print(f'{\"Number of members from \"+nation+\":\":40} {num_A:3} -> {num_B:3} ({num_B-num_A:+2})')"
   ]
  },
  {
   "cell_type": "code",
   "execution_count": 93,
   "id": "a2e1f948-bc19-405b-bab7-827005da2b7e",
   "metadata": {
    "tags": []
   },
   "outputs": [
    {
     "name": "stdout",
     "output_type": "stream",
     "text": [
      "Number of members from United States:    269 -> 411 (+142)\n",
      "Number of members from United Kingdom:    82 -> 118 (+36)\n",
      "Number of members from France:           197 -> 250 (+53)\n",
      "Number of members from Canada:            17 ->  24 (+7)\n"
     ]
    }
   ],
   "source": [
    "compare_nation('United States')\n",
    "compare_nation('United Kingdom')\n",
    "compare_nation('France')\n",
    "compare_nation('Canada')"
   ]
  },
  {
   "cell_type": "code",
   "execution_count": null,
   "id": "79684361-ff87-442d-a356-ccb0c57e2916",
   "metadata": {},
   "outputs": [],
   "source": []
  }
 ],
 "metadata": {
  "kernelspec": {
   "display_name": "Python 3 (ipykernel)",
   "language": "python",
   "name": "python3"
  },
  "language_info": {
   "codemirror_mode": {
    "name": "ipython",
    "version": 3
   },
   "file_extension": ".py",
   "mimetype": "text/x-python",
   "name": "python",
   "nbconvert_exporter": "python",
   "pygments_lexer": "ipython3",
   "version": "3.8.14"
  }
 },
 "nbformat": 4,
 "nbformat_minor": 5
}
