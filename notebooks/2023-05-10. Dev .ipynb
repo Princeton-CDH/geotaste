{
 "cells": [
  {
   "cell_type": "code",
   "execution_count": null,
   "metadata": {
    "tags": []
   },
   "outputs": [],
   "source": [
    "import sys; sys.path.insert(0,'..')\n",
    "from geotaste import *\n",
    "import pandas_dash"
   ]
  },
  {
   "cell_type": "code",
   "execution_count": null,
   "metadata": {
    "tags": []
   },
   "outputs": [],
   "source": [
    "\n",
    "## Non-sys imports\n",
    "import dash\n",
    "import dash_bootstrap_components as dbc\n",
    "import pandas as pd\n",
    "import numpy as np\n",
    "import plotly.express as px\n",
    "import numpy as np\n",
    "import pandas as pd\n",
    "from flask_caching import Cache\n",
    "import diskcache\n",
    "from dash import Dash, dcc, html, Input, Output, DiskcacheManager, dash_table\n",
    "import pandas_dash\n",
    "import plotly.graph_objects as go\n",
    "\n",
    "\n",
    "#############\n",
    "# APP SETUP #\n",
    "#############\n",
    "\n",
    "## Setup plotly\n",
    "\n",
    "# Plotly mapbox public token\n",
    "mapbox_access_token = open(os.path.expanduser('~/.mapbox_token')).read()\n",
    "px.set_mapbox_access_token(mapbox_access_token)"
   ]
  },
  {
   "cell_type": "code",
   "execution_count": null,
   "metadata": {
    "tags": []
   },
   "outputs": [],
   "source": [
    "dff=filter_figdf(get_members_df(with_dwellings=True))\n",
    "dff['arrond_id_int']=dff.arrond_id.apply(lambda x: int(x) if x!='' else 0)"
   ]
  },
  {
   "cell_type": "code",
   "execution_count": null,
   "metadata": {
    "tags": []
   },
   "outputs": [],
   "source": [
    "fig = px.choropleth_mapbox(\n",
    "    dff,\n",
    "    geojson=get_geojson_arrondissement(),\n",
    "    locations='arrond_id', \n",
    "    color='arrond_id',\n",
    "    center=dict(lat=latlon_SCO[0], lon=latlon_SCO[1]),\n",
    "    # fitbounds='locations',\n",
    "    zoom=12,\n",
    "    opacity=.25\n",
    "    # zoom=12, \n",
    "    # color_continuous_scale=\"Viridis\",\n",
    "    # range_color=(0, 12),\n",
    "    # scope=\"europe\",\n",
    "    # labels={'unemp':'unemployment rate'}\n",
    ")\n",
    "# fig.update_layout(margin={\"r\":0,\"t\":0,\"l\":0,\"b\":0})\n",
    "fig"
   ]
  },
  {
   "cell_type": "code",
   "execution_count": null,
   "metadata": {
    "tags": []
   },
   "outputs": [],
   "source": [
    "px.scatter_mapbox?"
   ]
  },
  {
   "cell_type": "code",
   "execution_count": null,
   "metadata": {
    "tags": []
   },
   "outputs": [],
   "source": [
    "fig_points = px.scatter_mapbox(\n",
    "    dff, \n",
    "    lat=\"lat\", \n",
    "    lon=\"lon\", \n",
    "    center=dict(lat=latlon_SCO[0], lon=latlon_SCO[1]),\n",
    "    zoom=12, \n",
    "    color='black',\n",
    "\n",
    ")\n",
    "# fig_points.update_layout(margin={\"r\":0,\"t\":0,\"l\":0,\"b\":0})\n",
    "# fig_points"
   ]
  },
  {
   "cell_type": "code",
   "execution_count": null,
   "metadata": {
    "tags": []
   },
   "outputs": [],
   "source": [
    "# fig_points.add_trace(fig.data)\n",
    "# fig_points"
   ]
  },
  {
   "cell_type": "code",
   "execution_count": null,
   "metadata": {
    "tags": []
   },
   "outputs": [],
   "source": [
    "fig3 = go.Figure(data=fig_points.data + fig.data, layout = fig_points.layout)\n",
    "fig3"
   ]
  },
  {
   "cell_type": "code",
   "execution_count": null,
   "metadata": {},
   "outputs": [],
   "source": []
  },
  {
   "cell_type": "code",
   "execution_count": null,
   "metadata": {
    "tags": []
   },
   "outputs": [],
   "source": [
    "get_members_df().iloc[0]"
   ]
  },
  {
   "cell_type": "code",
   "execution_count": null,
   "metadata": {
    "tags": []
   },
   "outputs": [],
   "source": [
    "df=get_books_df()\n",
    "df"
   ]
  },
  {
   "cell_type": "code",
   "execution_count": null,
   "metadata": {
    "tags": []
   },
   "outputs": [],
   "source": [
    "# from dash import dcc\n",
    "# dropdown = dcc.Dropdown(\n",
    "#     options=df.dash.to_options('author')\n",
    "# )\n",
    "# display(dropdown)"
   ]
  },
  {
   "cell_type": "code",
   "execution_count": null,
   "metadata": {},
   "outputs": [],
   "source": [
    "df.dash.to_options('author')"
   ]
  },
  {
   "cell_type": "code",
   "execution_count": null,
   "metadata": {},
   "outputs": [],
   "source": []
  }
 ],
 "metadata": {
  "kernelspec": {
   "display_name": "Python 3 (ipykernel)",
   "language": "python",
   "name": "python3"
  },
  "language_info": {
   "codemirror_mode": {
    "name": "ipython",
    "version": 3
   },
   "file_extension": ".py",
   "mimetype": "text/x-python",
   "name": "python",
   "nbconvert_exporter": "python",
   "pygments_lexer": "ipython3",
   "version": "3.8.14"
  }
 },
 "nbformat": 4,
 "nbformat_minor": 4
}
