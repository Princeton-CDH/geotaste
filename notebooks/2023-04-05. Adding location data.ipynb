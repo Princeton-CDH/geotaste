{
 "cells": [
  {
   "cell_type": "markdown",
   "metadata": {},
   "source": [
    "# Adding in location data more intelligently ..."
   ]
  },
  {
   "cell_type": "code",
   "execution_count": 1,
   "metadata": {
    "tags": []
   },
   "outputs": [],
   "source": [
    "import sys; sys.path.insert(0,'..')\n",
    "from geotaste import *"
   ]
  },
  {
   "cell_type": "code",
   "execution_count": 2,
   "metadata": {
    "tags": []
   },
   "outputs": [
    {
     "data": {
      "text/plain": [
       "uri                 https://shakespeareandco.princeton.edu/members...\n",
       "name                                                  Berenice Abbott\n",
       "sort_name                                            Abbott, Berenice\n",
       "title                                                                \n",
       "gender                                                         Female\n",
       "is_organization                                                 False\n",
       "has_card                                                        False\n",
       "birth_year                                                     1898.0\n",
       "death_year                                                     1991.0\n",
       "membership_years                                                 1926\n",
       "viaf_url                               http://viaf.org/viaf/44309674/\n",
       "wikipedia_url           https://en.wikipedia.org/wiki/Berenice_Abbott\n",
       "nationalities                                           United States\n",
       "addresses                                        44 rue du Bac, Paris\n",
       "postal_codes                                                    75007\n",
       "arrondissements                                                     7\n",
       "coordinates                                         48.85681, 2.32644\n",
       "notes               The Shakespeare and Company <a href=\"https://s...\n",
       "updated                                     2021-08-22T15:06:30+00:00\n",
       "is_expat                                                         True\n",
       "has_wikipedia                                                    True\n",
       "has_viaf                                                         True\n",
       "birth_decade                                                    1890s\n",
       "generation                                Lost Generation (1883-1900)\n",
       "Name: 0, dtype: object"
      ]
     },
     "execution_count": 2,
     "metadata": {},
     "output_type": "execute_result"
    }
   ],
   "source": [
    "get_members_df().iloc[0]"
   ]
  },
  {
   "cell_type": "code",
   "execution_count": 3,
   "metadata": {
    "tags": []
   },
   "outputs": [
    {
     "data": {
      "text/plain": [
       "event_type                                                              Generic\n",
       "start_date                                                                 1920\n",
       "end_date                                                                    NaN\n",
       "member_uris                   https://shakespeareandco.princeton.edu/members...\n",
       "member_names                                                 Raymonde Linossier\n",
       "member_sort_names                                           Linossier, Raymonde\n",
       "subscription_price_paid                                                     NaN\n",
       "subscription_deposit                                                        NaN\n",
       "subscription_duration                                                       NaN\n",
       "subscription_duration_days                                                  NaN\n",
       "subscription_volumes                                                        NaN\n",
       "subscription_category                                                       NaN\n",
       "subscription_purchase_date                                                  NaN\n",
       "reimbursement_refund                                                        NaN\n",
       "borrow_status                                                               NaN\n",
       "borrow_duration_days                                                        NaN\n",
       "purchase_price                                                              NaN\n",
       "currency                                                                    NaN\n",
       "item_uri                      https://shakespeareandco.princeton.edu/books/b...\n",
       "item_title                                                         Pigs Is Pigs\n",
       "item_volume                                                                 NaN\n",
       "item_authors                                               Butler, Ellis Parker\n",
       "item_year                                                                1906.0\n",
       "item_notes                                                                  NaN\n",
       "source_type                                                Lending Library Card\n",
       "source_citation               Sylvia Beach, Raymonde Linossier Lending Libra...\n",
       "source_manifest               https://figgy.princeton.edu/concern/scanned_re...\n",
       "source_image                  https://iiif.princeton.edu/loris/figgy_prod/00...\n",
       "Name: 0, dtype: object"
      ]
     },
     "execution_count": 3,
     "metadata": {},
     "output_type": "execute_result"
    }
   ],
   "source": [
    "get_events_df().iloc[0]"
   ]
  },
  {
   "cell_type": "code",
   "execution_count": 5,
   "metadata": {
    "tags": []
   },
   "outputs": [],
   "source": [
    "# dict(get_combined_df().iloc[0])"
   ]
  },
  {
   "cell_type": "code",
   "execution_count": null,
   "metadata": {},
   "outputs": [],
   "source": []
  }
 ],
 "metadata": {
  "kernelspec": {
   "display_name": "Python 3 (ipykernel)",
   "language": "python",
   "name": "python3"
  },
  "language_info": {
   "codemirror_mode": {
    "name": "ipython",
    "version": 3
   },
   "file_extension": ".py",
   "mimetype": "text/x-python",
   "name": "python",
   "nbconvert_exporter": "python",
   "pygments_lexer": "ipython3",
   "version": "3.8.14"
  }
 },
 "nbformat": 4,
 "nbformat_minor": 4
}
