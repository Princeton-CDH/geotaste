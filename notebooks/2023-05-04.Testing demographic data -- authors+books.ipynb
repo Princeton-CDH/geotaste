{
 "cells": [
  {
   "attachments": {},
   "cell_type": "markdown",
   "metadata": {},
   "source": [
    "## Synthesizing data with time-sensitive location data"
   ]
  },
  {
   "cell_type": "code",
   "execution_count": 1,
   "metadata": {
    "tags": []
   },
   "outputs": [],
   "source": [
    "import sys; sys.path.insert(0,'..')\n",
    "from geotaste import *\n"
   ]
  },
  {
   "cell_type": "markdown",
   "metadata": {},
   "source": [
    "### Authors"
   ]
  },
  {
   "cell_type": "code",
   "execution_count": 2,
   "metadata": {},
   "outputs": [],
   "source": [
    "# choices = get_author_choices()\n",
    "# show_author_choices(choices)"
   ]
  },
  {
   "cell_type": "code",
   "execution_count": 3,
   "metadata": {},
   "outputs": [],
   "source": [
    "# parse_author_choices(choices)"
   ]
  },
  {
   "attachments": {},
   "cell_type": "markdown",
   "metadata": {},
   "source": [
    "### Books"
   ]
  },
  {
   "cell_type": "code",
   "execution_count": 4,
   "metadata": {},
   "outputs": [
    {
     "data": {
      "text/plain": [
       "uri                  https://shakespeareandco.princeton.edu/books/a...\n",
       "title                                                  Collected Poems\n",
       "author                                                               Æ\n",
       "editor                                                                \n",
       "translator                                                            \n",
       "introduction                                                          \n",
       "illustrator                                                           \n",
       "photographer                                                          \n",
       "year                                                            1920.0\n",
       "format                                                            Book\n",
       "uncertain                                                        False\n",
       "ebook_url                 https://archive.org/details/dli.ernet.504076\n",
       "volumes_issues                                                        \n",
       "notes                                                                 \n",
       "event_count                                                          7\n",
       "borrow_count                                                         7\n",
       "purchase_count                                                       0\n",
       "circulation_years                             1920;1926;1931;1937;1939\n",
       "updated                                      2021-04-17T22:02:24+00:00\n",
       "book_dec                                                         1920s\n",
       "first_author                                                         Æ\n",
       "Name: a-e-collected-poems, dtype: object"
      ]
     },
     "execution_count": 4,
     "metadata": {},
     "output_type": "execute_result"
    }
   ],
   "source": [
    "df = get_books_df(with_author_data=False)\n",
    "df.sample(n=1).iloc[0]"
   ]
  },
  {
   "cell_type": "code",
   "execution_count": 5,
   "metadata": {},
   "outputs": [],
   "source": [
    "df=get_books_df()"
   ]
  },
  {
   "cell_type": "code",
   "execution_count": 6,
   "metadata": {},
   "outputs": [
    {
     "data": {
      "text/plain": [
       "                               5995\n",
       "Ellis, Havelock                   4\n",
       "Yeats, William Butler             3\n",
       "Wells, H. G.                      3\n",
       "Swinburne, Algernon Charles       2\n",
       "                               ... \n",
       "Phelps, William Lyon              1\n",
       "Hyde, H. Montgomery               1\n",
       "Niles, Abbe                       1\n",
       "Street, G. S.                     1\n",
       "Le Gallienne, Eva                 1\n",
       "Name: introduction, Length: 63, dtype: int64"
      ]
     },
     "execution_count": 6,
     "metadata": {},
     "output_type": "execute_result"
    }
   ],
   "source": [
    "df.introduction.value_counts()"
   ]
  },
  {
   "cell_type": "code",
   "execution_count": null,
   "metadata": {},
   "outputs": [],
   "source": []
  },
  {
   "cell_type": "code",
   "execution_count": 19,
   "metadata": {},
   "outputs": [],
   "source": [
    "def _parse_circulation_years(cyearstr):\n",
    "    return [int(cyr) for cyr in str(cyearstr).split(';') if cyr and str(cyr).isdigit()]\n",
    "\n",
    "def get_book_choices():\n",
    "    # Author filters\n",
    "    df = get_books_df(with_author_data=False)\n",
    "\n",
    "    all_circ_years = [x for l in df.circulation_years.apply(_parse_circulation_years) for x in l]\n",
    "\n",
    "    choices = [\n",
    "        # book name (sort alphabetically)\n",
    "        get_select(df.title, 'title', 'Title', sort_by_value=True),\n",
    "        get_select(df.format, 'format', 'Format', sort_by_value=False),\n",
    "        get_select(df.uncertain, 'uncertain', 'Uncertain?', sort_by_value=False),\n",
    "        get_select(df.editor, 'editor', 'Editor', sort_by_value=False),\n",
    "        get_select(df.translator, 'translator', 'Translator', sort_by_value=False),\n",
    "        get_select(df.introduction, 'introduction', 'Intro by', sort_by_value=False),\n",
    "\n",
    "        get_int_slider(all_circ_years, 'circulation_years', 'Circ. years'),\n",
    "        get_int_slider(df.year, 'year', \"Pub year\"),\n",
    "\n",
    "        get_int_slider(df.event_count, 'event_count', \"Event count\"),\n",
    "        get_int_slider(df.borrow_count, 'borrow_count', \"Borrow count\"),\n",
    "\n",
    "        \n",
    "    ]\n",
    "    return {ch.name:ch for ch in choices}"
   ]
  },
  {
   "cell_type": "code",
   "execution_count": 20,
   "metadata": {},
   "outputs": [
    {
     "data": {
      "text/markdown": [
       "### "
      ],
      "text/plain": [
       "<IPython.core.display.Markdown object>"
      ]
     },
     "metadata": {},
     "output_type": "display_data"
    },
    {
     "data": {
      "application/vnd.jupyter.widget-view+json": {
       "model_id": "4126d755b7c548bebfb43b985bad0c4f",
       "version_major": 2,
       "version_minor": 0
      },
      "text/plain": [
       "SelectMultiple(description='Title', options=(\"'Twixt Land and Sea\", '12:30 from Heaven', '14a', '1914 and Othe…"
      ]
     },
     "metadata": {},
     "output_type": "display_data"
    },
    {
     "data": {
      "application/vnd.jupyter.widget-view+json": {
       "model_id": "4afd8f94240443e7acc7017689282fde",
       "version_major": 2,
       "version_minor": 0
      },
      "text/plain": [
       "SelectMultiple(description='Format', options=('Book', '(none)', 'Periodical', 'Photograph', 'Article', 'Phonog…"
      ]
     },
     "metadata": {},
     "output_type": "display_data"
    },
    {
     "data": {
      "application/vnd.jupyter.widget-view+json": {
       "model_id": "173979de38df4073971ad8ea895a677a",
       "version_major": 2,
       "version_minor": 0
      },
      "text/plain": [
       "SelectMultiple(description='Uncertain?', options=(False, True), rows=2, value=())"
      ]
     },
     "metadata": {},
     "output_type": "display_data"
    },
    {
     "data": {
      "application/vnd.jupyter.widget-view+json": {
       "model_id": "0c9cf35f5d6345bc94aaf46409687475",
       "version_major": 2,
       "version_minor": 0
      },
      "text/plain": [
       "SelectMultiple(description='Editor', options=('(none)', \"O'Brien, Edward J.\", 'Morley, John', 'Ellis, Havelock…"
      ]
     },
     "metadata": {},
     "output_type": "display_data"
    },
    {
     "data": {
      "application/vnd.jupyter.widget-view+json": {
       "model_id": "5f7f39ffce6b4d249e1f198f79b0517d",
       "version_major": 2,
       "version_minor": 0
      },
      "text/plain": [
       "SelectMultiple(description='Translator', options=('(none)', 'Garnett, Constance', 'Paul, Cedar;Paul, Eden', 'L…"
      ]
     },
     "metadata": {},
     "output_type": "display_data"
    },
    {
     "data": {
      "application/vnd.jupyter.widget-view+json": {
       "model_id": "1471b46e8c6f47bf94aeac91d6d39d9b",
       "version_major": 2,
       "version_minor": 0
      },
      "text/plain": [
       "SelectMultiple(description='Intro by', options=('(none)', 'Ellis, Havelock', 'Wells, H. G.', 'Yeats, William B…"
      ]
     },
     "metadata": {},
     "output_type": "display_data"
    },
    {
     "data": {
      "application/vnd.jupyter.widget-view+json": {
       "model_id": "004a31d8fc8c4d97a8dbb65ba6ad11bd",
       "version_major": 2,
       "version_minor": 0
      },
      "text/plain": [
       "IntRangeSlider(value=(1919, 1962), description='Circ. years', max=1962, min=1919)"
      ]
     },
     "metadata": {},
     "output_type": "display_data"
    },
    {
     "data": {
      "application/vnd.jupyter.widget-view+json": {
       "model_id": "aefe191dcdc34953825bff798c74046e",
       "version_major": 2,
       "version_minor": 0
      },
      "text/plain": [
       "IntRangeSlider(value=(1485, 1962), description='Pub year', max=1962, min=1485)"
      ]
     },
     "metadata": {},
     "output_type": "display_data"
    },
    {
     "data": {
      "application/vnd.jupyter.widget-view+json": {
       "model_id": "361bd336b1244e99b4828a935a82ccd6",
       "version_major": 2,
       "version_minor": 0
      },
      "text/plain": [
       "IntRangeSlider(value=(0, 149), description='Event count', max=149)"
      ]
     },
     "metadata": {},
     "output_type": "display_data"
    },
    {
     "data": {
      "application/vnd.jupyter.widget-view+json": {
       "model_id": "fcae9551ee794500904ed24f1d127f17",
       "version_major": 2,
       "version_minor": 0
      },
      "text/plain": [
       "IntRangeSlider(value=(0, 115), description='Borrow count', max=115)"
      ]
     },
     "metadata": {},
     "output_type": "display_data"
    }
   ],
   "source": [
    "choices = get_book_choices()\n",
    "show_choices(choices)"
   ]
  },
  {
   "cell_type": "code",
   "execution_count": 14,
   "metadata": {},
   "outputs": [],
   "source": [
    "def parse_book_choices(choices):\n",
    "    df = get_books_df()\n",
    "    df,desc = parse_choices(choices, df, except_keys={'circulation_years'})\n",
    "    ok_years = choices.get('circulation_years')\n",
    "    if ok_years is not None and ok_years.value != (ok_years.min, ok_years.max):\n",
    "        ok_years_set = set(list(range(ok_years.value[0], ok_years.value[1]+1)))\n",
    "        df = df[df.circulation_years.apply(lambda cyrstr: bool(set(_parse_circulation_years(cyrstr)) & ok_years_set))]\n",
    "        desc['circulation_years']=ok_years.value\n",
    "\n",
    "    \n",
    "    return df,desc"
   ]
  },
  {
   "cell_type": "code",
   "execution_count": 16,
   "metadata": {},
   "outputs": [
    {
     "name": "stdout",
     "output_type": "stream",
     "text": [
      "{}\n"
     ]
    },
    {
     "data": {
      "text/html": [
       "<div>\n",
       "<style scoped>\n",
       "    .dataframe tbody tr th:only-of-type {\n",
       "        vertical-align: middle;\n",
       "    }\n",
       "\n",
       "    .dataframe tbody tr th {\n",
       "        vertical-align: top;\n",
       "    }\n",
       "\n",
       "    .dataframe thead th {\n",
       "        text-align: right;\n",
       "    }\n",
       "</style>\n",
       "<table border=\"1\" class=\"dataframe\">\n",
       "  <thead>\n",
       "    <tr style=\"text-align: right;\">\n",
       "      <th></th>\n",
       "      <th>uri</th>\n",
       "      <th>title</th>\n",
       "      <th>author</th>\n",
       "      <th>editor</th>\n",
       "      <th>translator</th>\n",
       "      <th>introduction</th>\n",
       "      <th>illustrator</th>\n",
       "      <th>photographer</th>\n",
       "      <th>year</th>\n",
       "      <th>format</th>\n",
       "      <th>...</th>\n",
       "      <th>author_iccu_url</th>\n",
       "      <th>author_isni_name</th>\n",
       "      <th>author_isni_url</th>\n",
       "      <th>author_wikidata_url</th>\n",
       "      <th>author_wikipedia_url</th>\n",
       "      <th>author_worldcat_identity_url</th>\n",
       "      <th>author_is_expat</th>\n",
       "      <th>author_birth_decade</th>\n",
       "      <th>author_generation</th>\n",
       "      <th>borrow_count_q</th>\n",
       "    </tr>\n",
       "    <tr>\n",
       "      <th>book_id</th>\n",
       "      <th></th>\n",
       "      <th></th>\n",
       "      <th></th>\n",
       "      <th></th>\n",
       "      <th></th>\n",
       "      <th></th>\n",
       "      <th></th>\n",
       "      <th></th>\n",
       "      <th></th>\n",
       "      <th></th>\n",
       "      <th></th>\n",
       "      <th></th>\n",
       "      <th></th>\n",
       "      <th></th>\n",
       "      <th></th>\n",
       "      <th></th>\n",
       "      <th></th>\n",
       "      <th></th>\n",
       "      <th></th>\n",
       "      <th></th>\n",
       "      <th></th>\n",
       "    </tr>\n",
       "  </thead>\n",
       "  <tbody>\n",
       "    <tr>\n",
       "      <th>malory-morte-darthur</th>\n",
       "      <td>https://shakespeareandco.princeton.edu/books/m...</td>\n",
       "      <td>Le Morte d'Arthur</td>\n",
       "      <td>Malory, Thomas</td>\n",
       "      <td></td>\n",
       "      <td></td>\n",
       "      <td></td>\n",
       "      <td></td>\n",
       "      <td></td>\n",
       "      <td>1485.0</td>\n",
       "      <td>Book</td>\n",
       "      <td>...</td>\n",
       "      <td></td>\n",
       "      <td>Malory, Thomas 1408-1471</td>\n",
       "      <td>http://isni.org/isni/0000000374003514</td>\n",
       "      <td>https://www.wikidata.org/entity/Q309907#siteli...</td>\n",
       "      <td>https://en.wikipedia.org/wiki/Thomas_Malory</td>\n",
       "      <td>https:https://www.worldcat.org/identities/lccn...</td>\n",
       "      <td>True</td>\n",
       "      <td>1400s</td>\n",
       "      <td></td>\n",
       "      <td>7</td>\n",
       "    </tr>\n",
       "    <tr>\n",
       "      <th>more-utopia</th>\n",
       "      <td>https://shakespeareandco.princeton.edu/books/m...</td>\n",
       "      <td>Utopia</td>\n",
       "      <td>More, Thomas</td>\n",
       "      <td></td>\n",
       "      <td></td>\n",
       "      <td></td>\n",
       "      <td></td>\n",
       "      <td></td>\n",
       "      <td>1516.0</td>\n",
       "      <td>Book</td>\n",
       "      <td>...</td>\n",
       "      <td>http://id.sbn.it/af/IT\\ICCU\\CFIV\\052646</td>\n",
       "      <td>Tom‡s Moro 1478-1535 Santo</td>\n",
       "      <td>http://isni.org/isni/0000000031820467</td>\n",
       "      <td>https://www.wikidata.org/entity/Q42544#sitelin...</td>\n",
       "      <td>https://en.wikipedia.org/wiki/Thomas_More</td>\n",
       "      <td>https:https://www.worldcat.org/identities/lccn...</td>\n",
       "      <td>True</td>\n",
       "      <td>1470s</td>\n",
       "      <td></td>\n",
       "      <td>2</td>\n",
       "    </tr>\n",
       "    <tr>\n",
       "      <th>norton-gorboduc</th>\n",
       "      <td>https://shakespeareandco.princeton.edu/books/n...</td>\n",
       "      <td>Gorboduc</td>\n",
       "      <td>Norton, Thomas</td>\n",
       "      <td></td>\n",
       "      <td></td>\n",
       "      <td></td>\n",
       "      <td></td>\n",
       "      <td></td>\n",
       "      <td>1561.0</td>\n",
       "      <td>Book</td>\n",
       "      <td>...</td>\n",
       "      <td></td>\n",
       "      <td>Norton, Thomas 1532-1584</td>\n",
       "      <td>http://isni.org/isni/0000000108814357</td>\n",
       "      <td>https://www.wikidata.org/entity/Q337443#siteli...</td>\n",
       "      <td>https://en.wikipedia.org/wiki/Thomas_Norton</td>\n",
       "      <td>https:https://www.worldcat.org/identities/lccn...</td>\n",
       "      <td>True</td>\n",
       "      <td>1530s</td>\n",
       "      <td></td>\n",
       "      <td>1</td>\n",
       "    </tr>\n",
       "    <tr>\n",
       "      <th>lyly-euphues-anatomy-wit</th>\n",
       "      <td>https://shakespeareandco.princeton.edu/books/l...</td>\n",
       "      <td>Euphues: The Anatomy of Wit</td>\n",
       "      <td>Lyly, John</td>\n",
       "      <td></td>\n",
       "      <td></td>\n",
       "      <td></td>\n",
       "      <td></td>\n",
       "      <td></td>\n",
       "      <td>1578.0</td>\n",
       "      <td>Book</td>\n",
       "      <td>...</td>\n",
       "      <td></td>\n",
       "      <td>John Lyly English politician</td>\n",
       "      <td>http://isni.org/isni/0000000108985156</td>\n",
       "      <td>https://www.wikidata.org/entity/Q261627#siteli...</td>\n",
       "      <td>https://en.wikipedia.org/wiki/John_Lyly</td>\n",
       "      <td>https:https://www.worldcat.org/identities/lccn...</td>\n",
       "      <td>True</td>\n",
       "      <td>1550s</td>\n",
       "      <td></td>\n",
       "      <td>1</td>\n",
       "    </tr>\n",
       "    <tr>\n",
       "      <th>spenser-shepheards-calendar</th>\n",
       "      <td>https://shakespeareandco.princeton.edu/books/s...</td>\n",
       "      <td>The Shepheard's Calendar</td>\n",
       "      <td>Spenser, Edmund</td>\n",
       "      <td></td>\n",
       "      <td></td>\n",
       "      <td></td>\n",
       "      <td></td>\n",
       "      <td></td>\n",
       "      <td>1579.0</td>\n",
       "      <td>Book</td>\n",
       "      <td>...</td>\n",
       "      <td></td>\n",
       "      <td>Spenser, Edmund 1552-1599</td>\n",
       "      <td>http://isni.org/isni/0000000453028242</td>\n",
       "      <td>https://www.wikidata.org/entity/Q4352055#sitel...</td>\n",
       "      <td>https://en.wikipedia.org/wiki/Edmund_Spenser</td>\n",
       "      <td>https:https://www.worldcat.org/identities/lccn...</td>\n",
       "      <td>True</td>\n",
       "      <td>1550s</td>\n",
       "      <td></td>\n",
       "      <td>1</td>\n",
       "    </tr>\n",
       "    <tr>\n",
       "      <th>...</th>\n",
       "      <td>...</td>\n",
       "      <td>...</td>\n",
       "      <td>...</td>\n",
       "      <td>...</td>\n",
       "      <td>...</td>\n",
       "      <td>...</td>\n",
       "      <td>...</td>\n",
       "      <td>...</td>\n",
       "      <td>...</td>\n",
       "      <td>...</td>\n",
       "      <td>...</td>\n",
       "      <td>...</td>\n",
       "      <td>...</td>\n",
       "      <td>...</td>\n",
       "      <td>...</td>\n",
       "      <td>...</td>\n",
       "      <td>...</td>\n",
       "      <td>...</td>\n",
       "      <td>...</td>\n",
       "      <td>...</td>\n",
       "      <td>...</td>\n",
       "    </tr>\n",
       "    <tr>\n",
       "      <th>unclear-4</th>\n",
       "      <td>https://shakespeareandco.princeton.edu/books/u...</td>\n",
       "      <td>[unclear]y</td>\n",
       "      <td></td>\n",
       "      <td></td>\n",
       "      <td></td>\n",
       "      <td></td>\n",
       "      <td></td>\n",
       "      <td></td>\n",
       "      <td></td>\n",
       "      <td></td>\n",
       "      <td>...</td>\n",
       "      <td>NaN</td>\n",
       "      <td>NaN</td>\n",
       "      <td>NaN</td>\n",
       "      <td>NaN</td>\n",
       "      <td>NaN</td>\n",
       "      <td>NaN</td>\n",
       "      <td>NaN</td>\n",
       "      <td>NaN</td>\n",
       "      <td>NaN</td>\n",
       "      <td>1</td>\n",
       "    </tr>\n",
       "    <tr>\n",
       "      <th>unidentified-benn-s-library</th>\n",
       "      <td>https://shakespeareandco.princeton.edu/books/u...</td>\n",
       "      <td>[unidentified Benn’s Library]</td>\n",
       "      <td></td>\n",
       "      <td></td>\n",
       "      <td></td>\n",
       "      <td></td>\n",
       "      <td></td>\n",
       "      <td></td>\n",
       "      <td></td>\n",
       "      <td></td>\n",
       "      <td>...</td>\n",
       "      <td>NaN</td>\n",
       "      <td>NaN</td>\n",
       "      <td>NaN</td>\n",
       "      <td>NaN</td>\n",
       "      <td>NaN</td>\n",
       "      <td>NaN</td>\n",
       "      <td>NaN</td>\n",
       "      <td>NaN</td>\n",
       "      <td>NaN</td>\n",
       "      <td>0</td>\n",
       "    </tr>\n",
       "    <tr>\n",
       "      <th>unknown</th>\n",
       "      <td>https://shakespeareandco.princeton.edu/books/u...</td>\n",
       "      <td>[unknown]</td>\n",
       "      <td></td>\n",
       "      <td></td>\n",
       "      <td></td>\n",
       "      <td></td>\n",
       "      <td></td>\n",
       "      <td></td>\n",
       "      <td></td>\n",
       "      <td></td>\n",
       "      <td>...</td>\n",
       "      <td>NaN</td>\n",
       "      <td>NaN</td>\n",
       "      <td>NaN</td>\n",
       "      <td>NaN</td>\n",
       "      <td>NaN</td>\n",
       "      <td>NaN</td>\n",
       "      <td>NaN</td>\n",
       "      <td>NaN</td>\n",
       "      <td>NaN</td>\n",
       "      <td>1</td>\n",
       "    </tr>\n",
       "    <tr>\n",
       "      <th>ford-transatlantic-review</th>\n",
       "      <td>https://shakespeareandco.princeton.edu/books/f...</td>\n",
       "      <td>the transatlantic review</td>\n",
       "      <td></td>\n",
       "      <td>Ford, Ford Madox</td>\n",
       "      <td></td>\n",
       "      <td></td>\n",
       "      <td></td>\n",
       "      <td></td>\n",
       "      <td></td>\n",
       "      <td>Periodical</td>\n",
       "      <td>...</td>\n",
       "      <td>NaN</td>\n",
       "      <td>NaN</td>\n",
       "      <td>NaN</td>\n",
       "      <td>NaN</td>\n",
       "      <td>NaN</td>\n",
       "      <td>NaN</td>\n",
       "      <td>NaN</td>\n",
       "      <td>NaN</td>\n",
       "      <td>NaN</td>\n",
       "      <td>2</td>\n",
       "    </tr>\n",
       "    <tr>\n",
       "      <th>jolas-transition</th>\n",
       "      <td>https://shakespeareandco.princeton.edu/books/j...</td>\n",
       "      <td>transition</td>\n",
       "      <td></td>\n",
       "      <td>Jolas, Eugene;Jolas, Maria</td>\n",
       "      <td></td>\n",
       "      <td></td>\n",
       "      <td></td>\n",
       "      <td></td>\n",
       "      <td></td>\n",
       "      <td>Periodical</td>\n",
       "      <td>...</td>\n",
       "      <td>NaN</td>\n",
       "      <td>NaN</td>\n",
       "      <td>NaN</td>\n",
       "      <td>NaN</td>\n",
       "      <td>NaN</td>\n",
       "      <td>NaN</td>\n",
       "      <td>NaN</td>\n",
       "      <td>NaN</td>\n",
       "      <td>NaN</td>\n",
       "      <td>26</td>\n",
       "    </tr>\n",
       "  </tbody>\n",
       "</table>\n",
       "<p>6067 rows × 67 columns</p>\n",
       "</div>"
      ],
      "text/plain": [
       "                                                                           uri  \\\n",
       "book_id                                                                          \n",
       "malory-morte-darthur         https://shakespeareandco.princeton.edu/books/m...   \n",
       "more-utopia                  https://shakespeareandco.princeton.edu/books/m...   \n",
       "norton-gorboduc              https://shakespeareandco.princeton.edu/books/n...   \n",
       "lyly-euphues-anatomy-wit     https://shakespeareandco.princeton.edu/books/l...   \n",
       "spenser-shepheards-calendar  https://shakespeareandco.princeton.edu/books/s...   \n",
       "...                                                                        ...   \n",
       "unclear-4                    https://shakespeareandco.princeton.edu/books/u...   \n",
       "unidentified-benn-s-library  https://shakespeareandco.princeton.edu/books/u...   \n",
       "unknown                      https://shakespeareandco.princeton.edu/books/u...   \n",
       "ford-transatlantic-review    https://shakespeareandco.princeton.edu/books/f...   \n",
       "jolas-transition             https://shakespeareandco.princeton.edu/books/j...   \n",
       "\n",
       "                                                     title           author  \\\n",
       "book_id                                                                       \n",
       "malory-morte-darthur                     Le Morte d'Arthur   Malory, Thomas   \n",
       "more-utopia                                         Utopia     More, Thomas   \n",
       "norton-gorboduc                                   Gorboduc   Norton, Thomas   \n",
       "lyly-euphues-anatomy-wit       Euphues: The Anatomy of Wit       Lyly, John   \n",
       "spenser-shepheards-calendar       The Shepheard's Calendar  Spenser, Edmund   \n",
       "...                                                    ...              ...   \n",
       "unclear-4                                       [unclear]y                    \n",
       "unidentified-benn-s-library  [unidentified Benn’s Library]                    \n",
       "unknown                                          [unknown]                    \n",
       "ford-transatlantic-review         the transatlantic review                    \n",
       "jolas-transition                                transition                    \n",
       "\n",
       "                                                 editor translator  \\\n",
       "book_id                                                              \n",
       "malory-morte-darthur                                                 \n",
       "more-utopia                                                          \n",
       "norton-gorboduc                                                      \n",
       "lyly-euphues-anatomy-wit                                             \n",
       "spenser-shepheards-calendar                                          \n",
       "...                                                 ...        ...   \n",
       "unclear-4                                                            \n",
       "unidentified-benn-s-library                                          \n",
       "unknown                                                              \n",
       "ford-transatlantic-review              Ford, Ford Madox              \n",
       "jolas-transition             Jolas, Eugene;Jolas, Maria              \n",
       "\n",
       "                            introduction illustrator photographer    year  \\\n",
       "book_id                                                                     \n",
       "malory-morte-darthur                                               1485.0   \n",
       "more-utopia                                                        1516.0   \n",
       "norton-gorboduc                                                    1561.0   \n",
       "lyly-euphues-anatomy-wit                                           1578.0   \n",
       "spenser-shepheards-calendar                                        1579.0   \n",
       "...                                  ...         ...          ...     ...   \n",
       "unclear-4                                                                   \n",
       "unidentified-benn-s-library                                                 \n",
       "unknown                                                                     \n",
       "ford-transatlantic-review                                                   \n",
       "jolas-transition                                                            \n",
       "\n",
       "                                 format  ...  \\\n",
       "book_id                                  ...   \n",
       "malory-morte-darthur               Book  ...   \n",
       "more-utopia                        Book  ...   \n",
       "norton-gorboduc                    Book  ...   \n",
       "lyly-euphues-anatomy-wit           Book  ...   \n",
       "spenser-shepheards-calendar        Book  ...   \n",
       "...                                 ...  ...   \n",
       "unclear-4                                ...   \n",
       "unidentified-benn-s-library              ...   \n",
       "unknown                                  ...   \n",
       "ford-transatlantic-review    Periodical  ...   \n",
       "jolas-transition             Periodical  ...   \n",
       "\n",
       "                                                     author_iccu_url  \\\n",
       "book_id                                                                \n",
       "malory-morte-darthur                                                   \n",
       "more-utopia                  http://id.sbn.it/af/IT\\ICCU\\CFIV\\052646   \n",
       "norton-gorboduc                                                        \n",
       "lyly-euphues-anatomy-wit                                               \n",
       "spenser-shepheards-calendar                                            \n",
       "...                                                              ...   \n",
       "unclear-4                                                        NaN   \n",
       "unidentified-benn-s-library                                      NaN   \n",
       "unknown                                                          NaN   \n",
       "ford-transatlantic-review                                        NaN   \n",
       "jolas-transition                                                 NaN   \n",
       "\n",
       "                                         author_isni_name  \\\n",
       "book_id                                                     \n",
       "malory-morte-darthur             Malory, Thomas 1408-1471   \n",
       "more-utopia                    Tom‡s Moro 1478-1535 Santo   \n",
       "norton-gorboduc                  Norton, Thomas 1532-1584   \n",
       "lyly-euphues-anatomy-wit     John Lyly English politician   \n",
       "spenser-shepheards-calendar     Spenser, Edmund 1552-1599   \n",
       "...                                                   ...   \n",
       "unclear-4                                             NaN   \n",
       "unidentified-benn-s-library                           NaN   \n",
       "unknown                                               NaN   \n",
       "ford-transatlantic-review                             NaN   \n",
       "jolas-transition                                      NaN   \n",
       "\n",
       "                                                   author_isni_url  \\\n",
       "book_id                                                              \n",
       "malory-morte-darthur         http://isni.org/isni/0000000374003514   \n",
       "more-utopia                  http://isni.org/isni/0000000031820467   \n",
       "norton-gorboduc              http://isni.org/isni/0000000108814357   \n",
       "lyly-euphues-anatomy-wit     http://isni.org/isni/0000000108985156   \n",
       "spenser-shepheards-calendar  http://isni.org/isni/0000000453028242   \n",
       "...                                                            ...   \n",
       "unclear-4                                                      NaN   \n",
       "unidentified-benn-s-library                                    NaN   \n",
       "unknown                                                        NaN   \n",
       "ford-transatlantic-review                                      NaN   \n",
       "jolas-transition                                               NaN   \n",
       "\n",
       "                                                           author_wikidata_url  \\\n",
       "book_id                                                                          \n",
       "malory-morte-darthur         https://www.wikidata.org/entity/Q309907#siteli...   \n",
       "more-utopia                  https://www.wikidata.org/entity/Q42544#sitelin...   \n",
       "norton-gorboduc              https://www.wikidata.org/entity/Q337443#siteli...   \n",
       "lyly-euphues-anatomy-wit     https://www.wikidata.org/entity/Q261627#siteli...   \n",
       "spenser-shepheards-calendar  https://www.wikidata.org/entity/Q4352055#sitel...   \n",
       "...                                                                        ...   \n",
       "unclear-4                                                                  NaN   \n",
       "unidentified-benn-s-library                                                NaN   \n",
       "unknown                                                                    NaN   \n",
       "ford-transatlantic-review                                                  NaN   \n",
       "jolas-transition                                                           NaN   \n",
       "\n",
       "                                                     author_wikipedia_url  \\\n",
       "book_id                                                                     \n",
       "malory-morte-darthur          https://en.wikipedia.org/wiki/Thomas_Malory   \n",
       "more-utopia                     https://en.wikipedia.org/wiki/Thomas_More   \n",
       "norton-gorboduc               https://en.wikipedia.org/wiki/Thomas_Norton   \n",
       "lyly-euphues-anatomy-wit          https://en.wikipedia.org/wiki/John_Lyly   \n",
       "spenser-shepheards-calendar  https://en.wikipedia.org/wiki/Edmund_Spenser   \n",
       "...                                                                   ...   \n",
       "unclear-4                                                             NaN   \n",
       "unidentified-benn-s-library                                           NaN   \n",
       "unknown                                                               NaN   \n",
       "ford-transatlantic-review                                             NaN   \n",
       "jolas-transition                                                      NaN   \n",
       "\n",
       "                                                  author_worldcat_identity_url  \\\n",
       "book_id                                                                          \n",
       "malory-morte-darthur         https:https://www.worldcat.org/identities/lccn...   \n",
       "more-utopia                  https:https://www.worldcat.org/identities/lccn...   \n",
       "norton-gorboduc              https:https://www.worldcat.org/identities/lccn...   \n",
       "lyly-euphues-anatomy-wit     https:https://www.worldcat.org/identities/lccn...   \n",
       "spenser-shepheards-calendar  https:https://www.worldcat.org/identities/lccn...   \n",
       "...                                                                        ...   \n",
       "unclear-4                                                                  NaN   \n",
       "unidentified-benn-s-library                                                NaN   \n",
       "unknown                                                                    NaN   \n",
       "ford-transatlantic-review                                                  NaN   \n",
       "jolas-transition                                                           NaN   \n",
       "\n",
       "                             author_is_expat author_birth_decade  \\\n",
       "book_id                                                            \n",
       "malory-morte-darthur                    True               1400s   \n",
       "more-utopia                             True               1470s   \n",
       "norton-gorboduc                         True               1530s   \n",
       "lyly-euphues-anatomy-wit                True               1550s   \n",
       "spenser-shepheards-calendar             True               1550s   \n",
       "...                                      ...                 ...   \n",
       "unclear-4                                NaN                 NaN   \n",
       "unidentified-benn-s-library              NaN                 NaN   \n",
       "unknown                                  NaN                 NaN   \n",
       "ford-transatlantic-review                NaN                 NaN   \n",
       "jolas-transition                         NaN                 NaN   \n",
       "\n",
       "                            author_generation borrow_count_q  \n",
       "book_id                                                       \n",
       "malory-morte-darthur                                       7  \n",
       "more-utopia                                                2  \n",
       "norton-gorboduc                                            1  \n",
       "lyly-euphues-anatomy-wit                                   1  \n",
       "spenser-shepheards-calendar                                1  \n",
       "...                                       ...            ...  \n",
       "unclear-4                                 NaN              1  \n",
       "unidentified-benn-s-library               NaN              0  \n",
       "unknown                                   NaN              1  \n",
       "ford-transatlantic-review                 NaN              2  \n",
       "jolas-transition                          NaN             26  \n",
       "\n",
       "[6067 rows x 67 columns]"
      ]
     },
     "execution_count": 16,
     "metadata": {},
     "output_type": "execute_result"
    }
   ],
   "source": [
    "odf,odesc=parse_book_choices(choices)\n",
    "print(odesc)\n",
    "odf"
   ]
  },
  {
   "cell_type": "code",
   "execution_count": null,
   "metadata": {},
   "outputs": [],
   "source": []
  }
 ],
 "metadata": {
  "kernelspec": {
   "display_name": "Python 3 (ipykernel)",
   "language": "python",
   "name": "python3"
  },
  "language_info": {
   "codemirror_mode": {
    "name": "ipython",
    "version": 3
   },
   "file_extension": ".py",
   "mimetype": "text/x-python",
   "name": "python",
   "nbconvert_exporter": "python",
   "pygments_lexer": "ipython3",
   "version": "3.8.14"
  }
 },
 "nbformat": 4,
 "nbformat_minor": 4
}
