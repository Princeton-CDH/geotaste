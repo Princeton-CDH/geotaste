{
 "cells": [
  {
   "attachments": {},
   "cell_type": "markdown",
   "metadata": {},
   "source": [
    "## Synthesizing data with time-sensitive location data"
   ]
  },
  {
   "cell_type": "code",
   "execution_count": 1,
   "metadata": {
    "tags": []
   },
   "outputs": [],
   "source": [
    "import sys; sys.path.insert(0,'..')\n",
    "from geotaste import *"
   ]
  },
  {
   "cell_type": "code",
   "execution_count": 2,
   "metadata": {},
   "outputs": [],
   "source": [
    "choices = {\n",
    "    'members':get_member_choices(),\n",
    "    'books':get_book_choices(),\n",
    "    'authors':get_author_choices(),\n",
    "    'events':get_event_choices()\n",
    "}\n",
    "\n",
    "results = {\n",
    "    'members':widgets.HTML('--'),\n",
    "    'books':widgets.HTML('--'),\n",
    "    'authors':widgets.HTML('--'),\n",
    "    'events':widgets.HTML('--'),\n",
    "}\n",
    "\n",
    "parsers = {\n",
    "    'members':parse_member_choices,\n",
    "    'books':parse_book_choices,\n",
    "    'authors':parse_author_choices,\n",
    "    'events':parse_event_choices\n",
    "}\n",
    "\n",
    "data = {}"
   ]
  },
  {
   "cell_type": "code",
   "execution_count": 3,
   "metadata": {},
   "outputs": [],
   "source": [
    "def get_choice_vbox(key):\n",
    "    return widgets.VBox([widgets.HTML(f'<h3>{key.title()}</h3>'), results[key]] + list(choices[key].values()))"
   ]
  },
  {
   "cell_type": "code",
   "execution_count": 4,
   "metadata": {},
   "outputs": [],
   "source": [
    "def parse_all_choices(choices):\n",
    "    for ctype in choices:\n",
    "        ctype_choices = choices[ctype]\n",
    "        cdf, cdesc = parsers[ctype](ctype_choices)\n",
    "        cdesc_str = ' && '.join(f'{k} in {v}' if type(v)==tuple else f'{k} is {v}' for k,v in cdesc.items())\n",
    "        results[ctype].value=f'<i>{len(cdf)} rows</i><br/><b><font color=\"red\">{cdesc_str if cdesc_str else \"&nbsp;\"}</font></b>'\n",
    "        data[ctype] = cdf\n",
    "\n",
    "\n",
    "def show_all_choices():\n",
    "    b=widgets.Button(description='Filter Data')\n",
    "    b.on_click(lambda x: parse_all_choices(choices))\n",
    "\n",
    "    bcol = widgets.VBox([widgets.HTML(f'<h3>Run</h3>'), b])\n",
    "\n",
    "    obj = widgets.HBox([\n",
    "        get_choice_vbox('members'),\n",
    "        get_choice_vbox('books'),\n",
    "        get_choice_vbox('authors'),\n",
    "        get_choice_vbox('events'),\n",
    "        bcol\n",
    "    ])\n",
    "    return obj"
   ]
  },
  {
   "cell_type": "code",
   "execution_count": 5,
   "metadata": {},
   "outputs": [
    {
     "data": {
      "application/vnd.jupyter.widget-view+json": {
       "model_id": "6e9f9c8f29e64f1d8b0122f386c31a95",
       "version_major": 2,
       "version_minor": 0
      },
      "text/plain": [
       "HBox(children=(VBox(children=(HTML(value='<h3>Members</h3>'), HTML(value='--'), SelectMultiple(description='Na…"
      ]
     },
     "execution_count": 5,
     "metadata": {},
     "output_type": "execute_result"
    }
   ],
   "source": [
    "show_all_choices()"
   ]
  },
  {
   "attachments": {},
   "cell_type": "markdown",
   "metadata": {},
   "source": [
    "### Logic for mapping/reporting combined data\n",
    "\n",
    "..."
   ]
  },
  {
   "cell_type": "code",
   "execution_count": null,
   "metadata": {},
   "outputs": [],
   "source": []
  }
 ],
 "metadata": {
  "kernelspec": {
   "display_name": "Python 3 (ipykernel)",
   "language": "python",
   "name": "python3"
  },
  "language_info": {
   "codemirror_mode": {
    "name": "ipython",
    "version": 3
   },
   "file_extension": ".py",
   "mimetype": "text/x-python",
   "name": "python",
   "nbconvert_exporter": "python",
   "pygments_lexer": "ipython3",
   "version": "3.8.14"
  }
 },
 "nbformat": 4,
 "nbformat_minor": 4
}
