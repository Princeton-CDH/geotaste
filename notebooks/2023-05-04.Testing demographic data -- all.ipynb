{
 "cells": [
  {
   "cell_type": "markdown",
   "metadata": {},
   "source": [
    "## Synthesizing data with time-sensitive location data"
   ]
  },
  {
   "cell_type": "code",
   "execution_count": 1,
   "metadata": {
    "tags": []
   },
   "outputs": [],
   "source": [
    "import sys; sys.path.insert(0,'..')\n",
    "from geotaste import *"
   ]
  },
  {
   "cell_type": "code",
   "execution_count": 2,
   "metadata": {
    "tags": []
   },
   "outputs": [],
   "source": [
    "choices = {\n",
    "    'members':get_member_choices(),\n",
    "    'books':get_book_choices(),\n",
    "    'authors':get_author_choices(),\n",
    "    'events':get_event_choices()\n",
    "}\n",
    "\n",
    "results = {\n",
    "    'members':widgets.HTML('--'),\n",
    "    'books':widgets.HTML('--'),\n",
    "    'authors':widgets.HTML('--'),\n",
    "    'events':widgets.HTML('--'),\n",
    "}\n",
    "\n",
    "parsers = {\n",
    "    'members':parse_member_choices,\n",
    "    'books':parse_book_choices,\n",
    "    'authors':parse_author_choices,\n",
    "    'events':parse_event_choices\n",
    "}\n",
    "\n",
    "data = {}"
   ]
  },
  {
   "cell_type": "code",
   "execution_count": 3,
   "metadata": {
    "tags": []
   },
   "outputs": [],
   "source": [
    "def get_choice_vbox(key):\n",
    "    return widgets.VBox([widgets.HTML(f'<h3>{key.title()}</h3>'), results[key]] + list(choices[key].values()))"
   ]
  },
  {
   "cell_type": "code",
   "execution_count": 4,
   "metadata": {
    "tags": []
   },
   "outputs": [],
   "source": [
    "def parse_all_choices(choices):\n",
    "    for ctype in choices:\n",
    "        ctype_choices = choices[ctype]\n",
    "        cdf, cdesc = parsers[ctype](ctype_choices)\n",
    "        cdesc_str = ' && '.join(f'{k} in {v}' if type(v)==tuple else f'{k} is {v}' for k,v in cdesc.items())\n",
    "        results[ctype].value=f'<i>{len(cdf)} rows</i><br/><b><font color=\"red\">{cdesc_str if cdesc_str else \"&nbsp;\"}</font></b>'\n",
    "        data[ctype] = cdf\n",
    "\n",
    "\n",
    "def show_all_choices():\n",
    "    b=widgets.Button(description='Filter Data')\n",
    "    b.on_click(lambda x: parse_all_choices(choices))\n",
    "\n",
    "    bcol = widgets.VBox([widgets.HTML(f'<h3>Run</h3>'), b])\n",
    "\n",
    "    obj = widgets.HBox([\n",
    "        get_choice_vbox('members'),\n",
    "        get_choice_vbox('books'),\n",
    "        get_choice_vbox('authors'),\n",
    "        get_choice_vbox('events'),\n",
    "        bcol\n",
    "    ])\n",
    "    return obj"
   ]
  },
  {
   "cell_type": "code",
   "execution_count": 5,
   "metadata": {
    "tags": []
   },
   "outputs": [
    {
     "data": {
      "application/vnd.jupyter.widget-view+json": {
       "model_id": "1ee641197fdf476cbc35405dbdf2b950",
       "version_major": 2,
       "version_minor": 0
      },
      "text/plain": [
       "HBox(children=(VBox(children=(HTML(value='<h3>Members</h3>'), HTML(value='--'), SelectMultiple(description='Na…"
      ]
     },
     "execution_count": 5,
     "metadata": {},
     "output_type": "execute_result"
    }
   ],
   "source": [
    "show_all_choices()"
   ]
  },
  {
   "cell_type": "markdown",
   "metadata": {},
   "source": [
    "### Logic for mapping/reporting combined data\n",
    "\n",
    "..."
   ]
  },
  {
   "cell_type": "code",
   "execution_count": 6,
   "metadata": {
    "tags": []
   },
   "outputs": [],
   "source": [
    "# data['events']"
   ]
  },
  {
   "cell_type": "code",
   "execution_count": 7,
   "metadata": {
    "tags": []
   },
   "outputs": [],
   "source": [
    "def get_combined_filtered_events_df():\n",
    "    # really this is about events?\n",
    "    df = data['events']\n",
    "\n",
    "    # make sure in member ids\n",
    "    ok_members = set(data['members'].index)\n",
    "\n",
    "    # make sure books\n",
    "    df_books = data['books']\n",
    "    ok_authors = set(data['authors']['author_sort_name'])\n",
    "    def is_ok_author(x): return bool({y.strip() for y in x.split(';') if y.strip()} & ok_authors)\n",
    "    if ok_authors:\n",
    "        df_books=df_books[df_books.author.apply(is_ok_author)]\n",
    "    ok_books = set(df_books.index)\n",
    "\n",
    "    df = df[(df.member_id.isin(ok_members)) & (df.book_id.isin(ok_books))]\n",
    "    \n",
    "    return find_dwellings_for_member_events(df)"
   ]
  },
  {
   "cell_type": "code",
   "execution_count": 8,
   "metadata": {
    "tags": []
   },
   "outputs": [
    {
     "ename": "KeyError",
     "evalue": "'events'",
     "output_type": "error",
     "traceback": [
      "\u001b[0;31m---------------------------------------------------------------------------\u001b[0m",
      "\u001b[0;31mKeyError\u001b[0m                                  Traceback (most recent call last)",
      "Cell \u001b[0;32mIn[8], line 1\u001b[0m\n\u001b[0;32m----> 1\u001b[0m df \u001b[38;5;241m=\u001b[39m \u001b[43mget_combined_filtered_events_df\u001b[49m\u001b[43m(\u001b[49m\u001b[43m)\u001b[49m\n\u001b[1;32m      2\u001b[0m df\n",
      "Cell \u001b[0;32mIn[7], line 3\u001b[0m, in \u001b[0;36mget_combined_filtered_events_df\u001b[0;34m()\u001b[0m\n\u001b[1;32m      1\u001b[0m \u001b[38;5;28;01mdef\u001b[39;00m \u001b[38;5;21mget_combined_filtered_events_df\u001b[39m():\n\u001b[1;32m      2\u001b[0m     \u001b[38;5;66;03m# really this is about events?\u001b[39;00m\n\u001b[0;32m----> 3\u001b[0m     df \u001b[38;5;241m=\u001b[39m \u001b[43mdata\u001b[49m\u001b[43m[\u001b[49m\u001b[38;5;124;43m'\u001b[39;49m\u001b[38;5;124;43mevents\u001b[39;49m\u001b[38;5;124;43m'\u001b[39;49m\u001b[43m]\u001b[49m\n\u001b[1;32m      5\u001b[0m     \u001b[38;5;66;03m# make sure in member ids\u001b[39;00m\n\u001b[1;32m      6\u001b[0m     ok_members \u001b[38;5;241m=\u001b[39m \u001b[38;5;28mset\u001b[39m(data[\u001b[38;5;124m'\u001b[39m\u001b[38;5;124mmembers\u001b[39m\u001b[38;5;124m'\u001b[39m]\u001b[38;5;241m.\u001b[39mindex)\n",
      "\u001b[0;31mKeyError\u001b[0m: 'events'"
     ]
    }
   ],
   "source": [
    "df = get_combined_filtered_events_df()\n",
    "df"
   ]
  },
  {
   "cell_type": "code",
   "execution_count": null,
   "metadata": {
    "tags": []
   },
   "outputs": [],
   "source": [
    "# draw_choropleth(df)"
   ]
  },
  {
   "cell_type": "code",
   "execution_count": null,
   "metadata": {
    "tags": []
   },
   "outputs": [],
   "source": [
    "def get_arrond_counts(df,key='arrond_id'):\n",
    "    df=df.sample(frac=1)\n",
    "    arrond_counts = {n:0 for n in sorted(get_all_arrond_ids(), key=lambda x: int(x))}\n",
    "    df[key] = [x.iloc[0] if type(x)==pd.Series else x for x in df[key]]\n",
    "    for k,v in dict(df[key].value_counts()).items(): arrond_counts[k]=v    \n",
    "    arrond_df = pd.DataFrame([arrond_counts]).T.reset_index()\n",
    "    arrond_df.columns=[key, 'count']\n",
    "    arrond_df['perc']=arrond_df['count'] / sum(arrond_df['count']) * 100\n",
    "    return arrond_df.sort_values('perc',ascending=False)#.set_index('arrond_id')\n",
    "\n"
   ]
  },
  {
   "cell_type": "code",
   "execution_count": null,
   "metadata": {
    "tags": []
   },
   "outputs": [],
   "source": [
    "def draw_choro(df1,**kwargs):\n",
    "    opts={**dict(zoom_start=12, zoom=True, heatmap=True, value='perc'), **kwargs}\n",
    "    m1=draw_choropleth(df1, **opts)\n",
    "    cdf1=get_arrond_counts(df1).set_index('arrond_id')\n",
    "    \n",
    "    htmlstr= f'''\n",
    "        <div style=\"clear:both\";>\n",
    "            <br/>\n",
    "            <hr/>\n",
    "            <h3>Comparison table and contrast map</h3>\n",
    "            <i>Below is a table of counts and percentages creating the two maps, (L)eft and (R)ight, above. \n",
    "            <br/>It also shows the (L-R) values: negative here means (R) outweighed left; positive means (L) outweighed (R).\n",
    "            <br/>In the map below and right, red means that (R) outweighed (L); blue means (L) outweighed (R).\n",
    "            </i>\n",
    "        </div>\n",
    "        <div style=\"clear:both\";>\n",
    "            {get_iframe(m1,return_str=True, height=400, width=600, float=\"right\")}\n",
    "            <div style=\"width:400px;\">{round(cdf1,1).to_html()}<br/></div>\n",
    "        </div>'\n",
    "    '''\n",
    "    return HTML(htmlstr)"
   ]
  },
  {
   "cell_type": "code",
   "execution_count": null,
   "metadata": {
    "tags": []
   },
   "outputs": [],
   "source": [
    "draw_choro(df)"
   ]
  },
  {
   "cell_type": "code",
   "execution_count": null,
   "metadata": {},
   "outputs": [],
   "source": []
  },
  {
   "cell_type": "code",
   "execution_count": 9,
   "metadata": {
    "tags": []
   },
   "outputs": [
    {
     "data": {
      "application/vnd.jupyter.widget-view+json": {
       "model_id": "d1b6d7e9e25e46baa50f345cb57b7b97",
       "version_major": 2,
       "version_minor": 0
      },
      "text/plain": [
       "HTML(value='--')"
      ]
     },
     "metadata": {},
     "output_type": "display_data"
    }
   ],
   "source": [
    "display(results['members'])"
   ]
  },
  {
   "cell_type": "code",
   "execution_count": null,
   "metadata": {},
   "outputs": [],
   "source": []
  }
 ],
 "metadata": {
  "kernelspec": {
   "display_name": "Python 3 (ipykernel)",
   "language": "python",
   "name": "python3"
  },
  "language_info": {
   "codemirror_mode": {
    "name": "ipython",
    "version": 3
   },
   "file_extension": ".py",
   "mimetype": "text/x-python",
   "name": "python",
   "nbconvert_exporter": "python",
   "pygments_lexer": "ipython3",
   "version": "3.8.14"
  }
 },
 "nbformat": 4,
 "nbformat_minor": 4
}
