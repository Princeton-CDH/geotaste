{
 "cells": [
  {
   "cell_type": "code",
   "execution_count": 1,
   "id": "a7c02bc8-03fe-4b3c-bea2-336ec7aec7da",
   "metadata": {
    "tags": []
   },
   "outputs": [],
   "source": [
    "import sys; sys.path.append('..')\n",
    "from geotaste import *\n"
   ]
  },
  {
   "cell_type": "code",
   "execution_count": 2,
   "id": "fd65828d-c574-4b92-bb38-8b0a36119336",
   "metadata": {
    "tags": []
   },
   "outputs": [
    {
     "data": {
      "application/vnd.jupyter.widget-view+json": {
       "model_id": "a0924fb71f094906a692e4a65f97b7c0",
       "version_major": 2,
       "version_minor": 0
      },
      "text/plain": [
       "HBox(children=(VBox(children=(Label(value='Left-hand map'), Dropdown(options=('* Member Gender *', '', 'Female…"
      ]
     },
     "metadata": {},
     "output_type": "display_data"
    },
    {
     "data": {
      "application/vnd.jupyter.widget-view+json": {
       "model_id": "05ce32cc9ef94037a7421e0e89e9a03c",
       "version_major": 2,
       "version_minor": 0
      },
      "text/plain": [
       "Output()"
      ]
     },
     "metadata": {},
     "output_type": "display_data"
    }
   ],
   "source": [
    "\n",
    "@cache\n",
    "def get_member_choices_left():\n",
    "    return get_member_data_choices()\n",
    "@cache\n",
    "def get_member_choices_right():\n",
    "    return get_member_data_choices()\n",
    "\n",
    "def get_member_df_from_choices(choice_d):\n",
    "    df = get_members_df()\n",
    "    cols = set(df.columns)\n",
    "    choice_d = get_active_choice_d(choice_d)\n",
    "    for k,v in choice_d.items():\n",
    "        if k in cols:\n",
    "            print(k,v)\n",
    "            df = df[df[k]==v]    \n",
    "    \n",
    "    # others\n",
    "    nat = choice_d.get('nationality')\n",
    "    if nat:\n",
    "        df = df[df['nationalities'].str.contains(nat)]    \n",
    "    \n",
    "    return df\n",
    "\n",
    "def get_active_choice_d(choice_d):\n",
    "    od={}\n",
    "    for k,v in choice_d.items():\n",
    "        vstr=str(v.value)\n",
    "        if vstr and vstr[0]!='*':\n",
    "            od[k]=v.value\n",
    "    return od\n",
    "\n",
    "def get_member_choice_desc(choice_d):\n",
    "    choice_d=get_active_choice_d(choice_d)\n",
    "    if choice_d: return '; '.join(f'{x}: {y}' for x,y in choice_d.items())\n",
    "    return '(All members)'\n",
    "\n",
    "def draw_member_maps(e=None):\n",
    "    df1=get_coords_df(get_member_df_from_choices(get_member_choices_left()))\n",
    "    df2=get_coords_df(get_member_df_from_choices(get_member_choices_right()))\n",
    "    desc1=get_member_choice_desc(get_member_choices_left())\n",
    "    desc2=get_member_choice_desc(get_member_choices_right())\n",
    "    with get_out():\n",
    "        clear_output()\n",
    "        compare_choropleths(df1,df2, desc1=desc1, desc2=desc2)\n",
    "        \n",
    "def compare_choropleths(df1,df2,return_str=False,desc1='',desc2='',**kwargs):\n",
    "    opts={**dict(zoom_start=12, zoom=True, heatmap=True, value='perc'), **kwargs}\n",
    "    \n",
    "    m1=draw_choropleth(df1, **opts)\n",
    "    m2=draw_choropleth(df2, **opts)\n",
    "    \n",
    "    ## diff\n",
    "    cdf1=get_arrond_counts(df1).set_index('arrond_id')\n",
    "    cdf2=get_arrond_counts(df2).set_index('arrond_id')\n",
    "    diff_df = (cdf1-cdf2)\n",
    "    \n",
    "    odf=pd.DataFrame()\n",
    "    for c in cdf1: \n",
    "        odf[c+'_L']=cdf1[c]\n",
    "        odf[c+'_R']=cdf2[c]\n",
    "        odf[c+'_L-R']=diff_df[c]\n",
    "    odf=odf.sort_values('perc_L-R')\n",
    "    \n",
    "    diff_opts = {**opts}\n",
    "    diff_opts['heatmap']=False\n",
    "    diff_opts['fill_color']='RdBu'\n",
    "    m3=draw_choropleth(df1, count_df=diff_df.reset_index(), **diff_opts)\n",
    "    \n",
    "    htmlstr = ''\n",
    "    if desc1 or desc2:\n",
    "        htmlstr += f'''\n",
    "            <hr/>\n",
    "            <h3>Juxtaposition of left and right maps</h3>\n",
    "            <div style=\"float:left; color:#1A5276;\"><h4>L: {desc1}</h4></div>\n",
    "            <div style=\"float:right; color:#7B241C\"><h4>R: {desc2}</h4></div>\n",
    "            <div style=\"clear:both;\"></div>\n",
    "        '''\n",
    "    htmlstr+= compare_maps(m1,m2,return_str=True, height=400, width=600)\n",
    "    htmlstr+= f'''\n",
    "        <div style=\"clear:both\";>\n",
    "            <br/>\n",
    "            <hr/>\n",
    "            <h3>Comparison table and contrast map</h3>\n",
    "            <i>Below is a table of counts and percentages creating the two maps, (L)eft and (R)ight, above. \n",
    "            <br/>It also shows the (L-R) values: negative here means (R) outweighed left; positive means (L) outweighed (R).\n",
    "            <br/>In the map below and right, red means that (R) outweighed (L); blue means (L) outweighed (R).\n",
    "            </i>\n",
    "        </div>\n",
    "        <div style=\"clear:both\";>\n",
    "            {get_iframe(m3,return_str=True, height=400, width=600, float=\"right\")}\n",
    "            <div style=\"width:400px;\">{round(odf,1).to_html()}</div>\n",
    "        </div>'\n",
    "    '''\n",
    "    \n",
    "    display(HTML(htmlstr))\n",
    "    return htmlstr if return_str else HTML(htmlstr)\n",
    "\n",
    "def get_layout(choices_left_d={}, choices_right_d={}, **kwargs):\n",
    "    button=Button(description='Draw maps')\n",
    "    button.on_click(draw_member_maps)\n",
    "    return HBox([\n",
    "        VBox([Label('Left-hand map')]+list(get_member_choices_left().values())),\n",
    "        VBox([Label('Right-hand map')]+list(get_member_choices_right().values())),\n",
    "        button\n",
    "    ])\n",
    "\n",
    "def show_layout(*args,**kwargs):\n",
    "    display(get_layout(*args,**kwargs))\n",
    "\n",
    "\n",
    "@cache\n",
    "def get_out(): return Output()\n",
    "\n",
    "def show_comparator():\n",
    "    show_layout()\n",
    "    draw_member_maps()\n",
    "    display(get_out())\n",
    "\n",
    "\n",
    "def compare(): \n",
    "    clear_output()\n",
    "    show_comparator()\n",
    "\n",
    "\n",
    "compare()"
   ]
  },
  {
   "cell_type": "code",
   "execution_count": 71,
   "id": "f6bb07a8-96d3-4f29-8eda-0cb5997ab596",
   "metadata": {
    "tags": []
   },
   "outputs": [],
   "source": []
  },
  {
   "cell_type": "code",
   "execution_count": null,
   "id": "4f0d9f3e-aa57-4b63-9e77-b8c033827904",
   "metadata": {
    "tags": []
   },
   "outputs": [],
   "source": []
  },
  {
   "cell_type": "code",
   "execution_count": null,
   "id": "3aca467b-e159-4d1b-b038-18283b87f27e",
   "metadata": {},
   "outputs": [],
   "source": []
  }
 ],
 "metadata": {
  "kernelspec": {
   "display_name": "Python 3 (ipykernel)",
   "language": "python",
   "name": "python3"
  },
  "language_info": {
   "codemirror_mode": {
    "name": "ipython",
    "version": 3
   },
   "file_extension": ".py",
   "mimetype": "text/x-python",
   "name": "python",
   "nbconvert_exporter": "python",
   "pygments_lexer": "ipython3",
   "version": "3.8.14"
  }
 },
 "nbformat": 4,
 "nbformat_minor": 5
}
