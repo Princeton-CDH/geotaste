{
 "cells": [
  {
   "cell_type": "markdown",
   "metadata": {},
   "source": [
    "# Exploring Geotaste codebase"
   ]
  },
  {
   "cell_type": "code",
   "execution_count": 1,
   "metadata": {},
   "outputs": [],
   "source": [
    "import sys; sys.path.insert(0,'..')\n",
    "from geotaste import *\n",
    "import networkx as nx\n",
    "# !pip install -qU inheritance_explorer\n",
    "from inheritance_explorer import ClassGraphTree\n",
    "def show_img(fn):\n",
    "    from PIL import Image\n",
    "    from IPython.display import display\n",
    "    return display(Image.open(fn))\n",
    "def show_inheritance(class_):\n",
    "    cgt = ClassGraphTree(class_)\n",
    "    fig=cgt.graph(rankdir='BT')\n",
    "    imagefn=f'../docs/_static/{class_.__name__}.jpg'\n",
    "    fig.write_jpg(imagefn)\n",
    "    show_img(imagefn)\n",
    "    return imagefn"
   ]
  },
  {
   "cell_type": "code",
   "execution_count": 2,
   "metadata": {},
   "outputs": [],
   "source": [
    "def getcolor(x):\n",
    "    if 'Figure' in x: return '#83bef9'\n",
    "    if 'Dataset' in x: return '#f6e2be'\n",
    "    return '#bda7ce'\n",
    "    # if 'Panel' in x: return '#bda7ce'\n",
    "    # elif 'Card' in x: return '#7e67da'\n",
    "    # elif 'FigureFactory' in x: return '#3de1bb'\n",
    "    # elif 'Figure' in x: return '#83bef9'\n",
    "    # elif 'Dataset' in x: return '#a8f4f7'\n",
    "    # return '#bda7ce'"
   ]
  },
  {
   "cell_type": "code",
   "execution_count": 3,
   "metadata": {},
   "outputs": [],
   "source": [
    "# Code survey\n",
    "# Dataset??\n",
    "def get_graph(class_, fillcolor='white'):\n",
    "    cgt = ClassGraphTree(class_)\n",
    "    g = nx.nx_pydot.from_pydot(cgt.graph())\n",
    "    id2label = {n:d['label'] for n,d in g.nodes(data=True)}\n",
    "    og = nx.DiGraph()\n",
    "    for n,d in g.nodes(data=True): \n",
    "        og.add_node(id2label[n], fillcolor=getcolor(id2label[n]), style='filled', **d)\n",
    "    for a,b,d in g.edges(data=True): \n",
    "        og.add_edge(id2label[a], id2label[b], edge_type='is', **d)\n",
    "    return og"
   ]
  },
  {
   "cell_type": "code",
   "execution_count": 4,
   "metadata": {},
   "outputs": [],
   "source": [
    "dataset_g=get_graph(Dataset)\n",
    "ff_g = get_graph(FigureFactory)\n",
    "comp_g = get_graph(BaseComponent)"
   ]
  },
  {
   "cell_type": "code",
   "execution_count": 5,
   "metadata": {},
   "outputs": [
    {
     "data": {
      "text/plain": [
       "<networkx.classes.digraph.DiGraph at 0x284927190>"
      ]
     },
     "execution_count": 5,
     "metadata": {},
     "output_type": "execute_result"
    }
   ],
   "source": [
    "G = nx.compose_all([dataset_g, ff_g, comp_g])\n",
    "G"
   ]
  },
  {
   "cell_type": "code",
   "execution_count": 6,
   "metadata": {},
   "outputs": [
    {
     "name": "stdout",
     "output_type": "stream",
     "text": [
      "FigureFactory CombinedDataset\n",
      "LandmarksFigureFactory LandmarksDataset\n",
      "CombinedFigureFactory CombinedDataset\n",
      "ComparisonFigureFactory CombinedDataset\n"
     ]
    }
   ],
   "source": [
    "for n in ff_g.nodes():\n",
    "    obj = globals()[n]\n",
    "    dset_obj = obj.dataset_class\n",
    "    dset_name = dset_obj.__name__+'Dataset'\n",
    "    if 'Factory' in n:\n",
    "        print(n, dset_name)\n",
    "        G.add_edge(n, dset_name, edge_type='uses')"
   ]
  },
  {
   "cell_type": "code",
   "execution_count": 7,
   "metadata": {},
   "outputs": [
    {
     "name": "stdout",
     "output_type": "stream",
     "text": [
      "MemberDOBCard MemberDOBFigure\n",
      "MembershipYearCard MembershipYearFigure\n",
      "BookYearCard BookYearFigure\n",
      "EventYearCard EventYearFigure\n",
      "EventMonthCard EventMonthFigure\n",
      "MemberGenderCard MemberGenderFigure\n",
      "MemberNationalityCard MemberNationalityFigure\n",
      "MemberArrondCard MemberArrondFigure\n",
      "AuthorGenderCard AuthorGenderFigure\n",
      "BookGenreCard BookGenreFigure\n",
      "AuthorNationalityCard AuthorNationalityFigure\n",
      "EventTypeCard EventTypeFigure\n",
      "MemberNameCard MemberNameFigure\n",
      "BookTitleCard BookTitleFigure\n",
      "AuthorNameCard AuthorNameFigure\n",
      "MemberPanel CombinedFigureFactory\n",
      "BookPanel CombinedFigureFactory\n",
      "ComparisonPanel ComparisonFigureFactory\n"
     ]
    }
   ],
   "source": [
    "for n in comp_g.nodes():\n",
    "    obj = globals()[n]\n",
    "    try:\n",
    "        ff_obj = obj.figure_factory\n",
    "    except AttributeError:\n",
    "        continue\n",
    "    if ff_obj is None: continue\n",
    "    \n",
    "    ff_name = ff_obj.__name__\n",
    "    print(n, ff_name)\n",
    "    G.add_edge(n, ff_name, edge_type='uses')"
   ]
  },
  {
   "cell_type": "code",
   "execution_count": 8,
   "metadata": {},
   "outputs": [
    {
     "data": {
      "text/plain": [
       "NodeDataView({'Dataset': {'fillcolor': '#f6e2be', 'style': 'filled', 'label': 'Dataset', 'color': '#000000'}, 'LandmarksDataset': {'fillcolor': '#f6e2be', 'style': 'filled', 'label': 'LandmarksDataset', 'color': '#000000'}, 'MembersDataset': {'fillcolor': '#f6e2be', 'style': 'filled', 'label': 'MembersDataset', 'color': '#000000'}, 'MiniMembersDataset': {'fillcolor': '#f6e2be', 'style': 'filled', 'label': 'MiniMembersDataset', 'color': '#000000'}, 'DwellingsDataset': {'fillcolor': '#f6e2be', 'style': 'filled', 'label': 'DwellingsDataset', 'color': '#000000'}, 'MiniDwellingsDataset': {'fillcolor': '#f6e2be', 'style': 'filled', 'label': 'MiniDwellingsDataset', 'color': '#000000'}, 'BooksDataset': {'fillcolor': '#f6e2be', 'style': 'filled', 'label': 'BooksDataset', 'color': '#000000'}, 'MiniBooksDataset': {'fillcolor': '#f6e2be', 'style': 'filled', 'label': 'MiniBooksDataset', 'color': '#000000'}, 'CreatorsDataset': {'fillcolor': '#f6e2be', 'style': 'filled', 'label': 'CreatorsDataset', 'color': '#000000'}, 'EventsDataset': {'fillcolor': '#f6e2be', 'style': 'filled', 'label': 'EventsDataset', 'color': '#000000'}, 'MiniEventsDataset': {'fillcolor': '#f6e2be', 'style': 'filled', 'label': 'MiniEventsDataset', 'color': '#000000'}, 'CombinedDataset': {'fillcolor': '#f6e2be', 'style': 'filled', 'label': 'CombinedDataset', 'color': '#000000'}, 'FigureFactory': {'fillcolor': '#83bef9', 'style': 'filled', 'label': 'FigureFactory', 'color': '#000000'}, 'MemberFigure': {'fillcolor': '#83bef9', 'style': 'filled', 'label': 'MemberFigure', 'color': '#000000'}, 'MemberDOBFigure': {'fillcolor': '#83bef9', 'style': 'filled', 'label': 'MemberDOBFigure', 'color': '#000000'}, 'MembershipYearFigure': {'fillcolor': '#83bef9', 'style': 'filled', 'label': 'MembershipYearFigure', 'color': '#000000'}, 'MemberGenderFigure': {'fillcolor': '#83bef9', 'style': 'filled', 'label': 'MemberGenderFigure', 'color': '#000000'}, 'MemberNationalityFigure': {'fillcolor': '#83bef9', 'style': 'filled', 'label': 'MemberNationalityFigure', 'color': '#000000'}, 'MemberArrondFigure': {'fillcolor': '#83bef9', 'style': 'filled', 'label': 'MemberArrondFigure', 'color': '#000000'}, 'MemberNameFigure': {'fillcolor': '#83bef9', 'style': 'filled', 'label': 'MemberNameFigure', 'color': '#000000'}, 'NationalityFigure': {'fillcolor': '#83bef9', 'style': 'filled', 'label': 'NationalityFigure', 'color': '#000000'}, 'AuthorNationalityFigure': {'fillcolor': '#83bef9', 'style': 'filled', 'label': 'AuthorNationalityFigure', 'color': '#000000'}, 'BookFigure': {'fillcolor': '#83bef9', 'style': 'filled', 'label': 'BookFigure', 'color': '#000000'}, 'BookTitleFigure': {'fillcolor': '#83bef9', 'style': 'filled', 'label': 'BookTitleFigure', 'color': '#000000'}, 'BookGenreFigure': {'fillcolor': '#83bef9', 'style': 'filled', 'label': 'BookGenreFigure', 'color': '#000000'}, 'BookYearFigure': {'fillcolor': '#83bef9', 'style': 'filled', 'label': 'BookYearFigure', 'color': '#000000'}, 'AuthorFigure': {'fillcolor': '#83bef9', 'style': 'filled', 'label': 'AuthorFigure', 'color': '#000000'}, 'AuthorGenderFigure': {'fillcolor': '#83bef9', 'style': 'filled', 'label': 'AuthorGenderFigure', 'color': '#000000'}, 'AuthorDOBFigure': {'fillcolor': '#83bef9', 'style': 'filled', 'label': 'AuthorDOBFigure', 'color': '#000000'}, 'AuthorNameFigure': {'fillcolor': '#83bef9', 'style': 'filled', 'label': 'AuthorNameFigure', 'color': '#000000'}, 'EventFigure': {'fillcolor': '#83bef9', 'style': 'filled', 'label': 'EventFigure', 'color': '#000000'}, 'EventYearFigure': {'fillcolor': '#83bef9', 'style': 'filled', 'label': 'EventYearFigure', 'color': '#000000'}, 'EventMonthFigure': {'fillcolor': '#83bef9', 'style': 'filled', 'label': 'EventMonthFigure', 'color': '#000000'}, 'EventTypeFigure': {'fillcolor': '#83bef9', 'style': 'filled', 'label': 'EventTypeFigure', 'color': '#000000'}, 'LandmarksFigureFactory': {'fillcolor': '#83bef9', 'style': 'filled', 'label': 'LandmarksFigureFactory', 'color': '#000000'}, 'CombinedFigureFactory': {'fillcolor': '#83bef9', 'style': 'filled', 'label': 'CombinedFigureFactory', 'color': '#000000'}, 'ComparisonFigureFactory': {'fillcolor': '#83bef9', 'style': 'filled', 'label': 'ComparisonFigureFactory', 'color': '#000000'}, 'BaseComponent': {'fillcolor': '#bda7ce', 'style': 'filled', 'label': 'BaseComponent', 'color': '#000000'}, 'FilterComponent': {'fillcolor': '#bda7ce', 'style': 'filled', 'label': 'FilterComponent', 'color': '#000000'}, 'FilterCard': {'fillcolor': '#bda7ce', 'style': 'filled', 'label': 'FilterCard', 'color': '#000000'}, 'FilterPlotCard': {'fillcolor': '#bda7ce', 'style': 'filled', 'label': 'FilterPlotCard', 'color': '#000000'}, 'FilterSliderCard': {'fillcolor': '#bda7ce', 'style': 'filled', 'label': 'FilterSliderCard', 'color': '#000000'}, 'MemberDOBCard': {'fillcolor': '#bda7ce', 'style': 'filled', 'label': 'MemberDOBCard', 'color': '#000000'}, 'MembershipYearCard': {'fillcolor': '#bda7ce', 'style': 'filled', 'label': 'MembershipYearCard', 'color': '#000000'}, 'BookYearCard': {'fillcolor': '#bda7ce', 'style': 'filled', 'label': 'BookYearCard', 'color': '#000000'}, 'EventYearCard': {'fillcolor': '#bda7ce', 'style': 'filled', 'label': 'EventYearCard', 'color': '#000000'}, 'EventMonthCard': {'fillcolor': '#bda7ce', 'style': 'filled', 'label': 'EventMonthCard', 'color': '#000000'}, 'MemberGenderCard': {'fillcolor': '#bda7ce', 'style': 'filled', 'label': 'MemberGenderCard', 'color': '#000000'}, 'MemberNationalityCard': {'fillcolor': '#bda7ce', 'style': 'filled', 'label': 'MemberNationalityCard', 'color': '#000000'}, 'MemberArrondCard': {'fillcolor': '#bda7ce', 'style': 'filled', 'label': 'MemberArrondCard', 'color': '#000000'}, 'AuthorGenderCard': {'fillcolor': '#bda7ce', 'style': 'filled', 'label': 'AuthorGenderCard', 'color': '#000000'}, 'BookGenreCard': {'fillcolor': '#bda7ce', 'style': 'filled', 'label': 'BookGenreCard', 'color': '#000000'}, 'AuthorNationalityCard': {'fillcolor': '#bda7ce', 'style': 'filled', 'label': 'AuthorNationalityCard', 'color': '#000000'}, 'EventTypeCard': {'fillcolor': '#bda7ce', 'style': 'filled', 'label': 'EventTypeCard', 'color': '#000000'}, 'FilterInputCard': {'fillcolor': '#bda7ce', 'style': 'filled', 'label': 'FilterInputCard', 'color': '#000000'}, 'MemberNameCard': {'fillcolor': '#bda7ce', 'style': 'filled', 'label': 'MemberNameCard', 'color': '#000000'}, 'BookTitleCard': {'fillcolor': '#bda7ce', 'style': 'filled', 'label': 'BookTitleCard', 'color': '#000000'}, 'AuthorNameCard': {'fillcolor': '#bda7ce', 'style': 'filled', 'label': 'AuthorNameCard', 'color': '#000000'}, 'FilterPanel': {'fillcolor': '#bda7ce', 'style': 'filled', 'label': 'FilterPanel', 'color': '#000000'}, 'MemberPanel': {'fillcolor': '#bda7ce', 'style': 'filled', 'label': 'MemberPanel', 'color': '#000000'}, 'BookPanel': {'fillcolor': '#bda7ce', 'style': 'filled', 'label': 'BookPanel', 'color': '#000000'}, 'CombinedPanel': {'fillcolor': '#bda7ce', 'style': 'filled', 'label': 'CombinedPanel', 'color': '#000000'}, 'LeftPanel': {'fillcolor': '#bda7ce', 'style': 'filled', 'label': 'LeftPanel', 'color': '#000000'}, 'RightPanel': {'fillcolor': '#bda7ce', 'style': 'filled', 'label': 'RightPanel', 'color': '#000000'}, 'ComparisonPanel': {'fillcolor': '#bda7ce', 'style': 'filled', 'label': 'ComparisonPanel', 'color': '#000000'}, 'GeotasteLayout': {'fillcolor': '#bda7ce', 'style': 'filled', 'label': 'GeotasteLayout', 'color': '#000000'}})"
      ]
     },
     "execution_count": 8,
     "metadata": {},
     "output_type": "execute_result"
    }
   ],
   "source": [
    "import networkx as nx\n",
    "G.nodes(data=True)"
   ]
  },
  {
   "cell_type": "code",
   "execution_count": 9,
   "metadata": {},
   "outputs": [
    {
     "data": {
      "text/plain": [
       "[('LandmarksDataset', 'Dataset', {'edge_type': 'is'}),\n",
       " ('MembersDataset', 'Dataset', {'edge_type': 'is'}),\n",
       " ('MiniMembersDataset', 'Dataset', {'edge_type': 'is'}),\n",
       " ('DwellingsDataset', 'Dataset', {'edge_type': 'is'}),\n",
       " ('MiniDwellingsDataset', 'Dataset', {'edge_type': 'is'}),\n",
       " ('BooksDataset', 'Dataset', {'edge_type': 'is'}),\n",
       " ('MiniBooksDataset', 'Dataset', {'edge_type': 'is'}),\n",
       " ('CreatorsDataset', 'Dataset', {'edge_type': 'is'}),\n",
       " ('EventsDataset', 'Dataset', {'edge_type': 'is'}),\n",
       " ('MiniEventsDataset', 'Dataset', {'edge_type': 'is'}),\n",
       " ('CombinedDataset', 'Dataset', {'edge_type': 'is'}),\n",
       " ('FigureFactory', 'CombinedDataset', {'edge_type': 'uses'}),\n",
       " ('MemberFigure', 'FigureFactory', {'edge_type': 'is'}),\n",
       " ('MemberDOBFigure', 'MemberFigure', {'edge_type': 'is'}),\n",
       " ('MembershipYearFigure', 'MemberFigure', {'edge_type': 'is'}),\n",
       " ('MemberGenderFigure', 'MemberFigure', {'edge_type': 'is'}),\n",
       " ('MemberNationalityFigure', 'MemberFigure', {'edge_type': 'is'}),\n",
       " ('MemberNationalityFigure', 'NationalityFigure', {'edge_type': 'is'}),\n",
       " ('MemberArrondFigure', 'MemberFigure', {'edge_type': 'is'}),\n",
       " ('MemberNameFigure', 'MemberFigure', {'edge_type': 'is'}),\n",
       " ('NationalityFigure', 'FigureFactory', {'edge_type': 'is'}),\n",
       " ('AuthorNationalityFigure', 'NationalityFigure', {'edge_type': 'is'}),\n",
       " ('AuthorNationalityFigure', 'AuthorFigure', {'edge_type': 'is'}),\n",
       " ('BookFigure', 'FigureFactory', {'edge_type': 'is'}),\n",
       " ('BookTitleFigure', 'BookFigure', {'edge_type': 'is'}),\n",
       " ('BookGenreFigure', 'BookFigure', {'edge_type': 'is'}),\n",
       " ('BookYearFigure', 'BookFigure', {'edge_type': 'is'}),\n",
       " ('AuthorFigure', 'FigureFactory', {'edge_type': 'is'}),\n",
       " ('AuthorGenderFigure', 'AuthorFigure', {'edge_type': 'is'}),\n",
       " ('AuthorDOBFigure', 'AuthorFigure', {'edge_type': 'is'}),\n",
       " ('AuthorNameFigure', 'AuthorFigure', {'edge_type': 'is'}),\n",
       " ('EventFigure', 'FigureFactory', {'edge_type': 'is'}),\n",
       " ('EventYearFigure', 'EventFigure', {'edge_type': 'is'}),\n",
       " ('EventMonthFigure', 'EventFigure', {'edge_type': 'is'}),\n",
       " ('EventTypeFigure', 'EventFigure', {'edge_type': 'is'}),\n",
       " ('LandmarksFigureFactory', 'FigureFactory', {'edge_type': 'is'}),\n",
       " ('LandmarksFigureFactory', 'LandmarksDataset', {'edge_type': 'uses'}),\n",
       " ('CombinedFigureFactory', 'FigureFactory', {'edge_type': 'is'}),\n",
       " ('CombinedFigureFactory', 'CombinedDataset', {'edge_type': 'uses'}),\n",
       " ('ComparisonFigureFactory', 'CombinedFigureFactory', {'edge_type': 'is'}),\n",
       " ('ComparisonFigureFactory', 'CombinedDataset', {'edge_type': 'uses'}),\n",
       " ('FilterComponent', 'BaseComponent', {'edge_type': 'is'}),\n",
       " ('FilterCard', 'FilterComponent', {'edge_type': 'is'}),\n",
       " ('FilterPlotCard', 'FilterCard', {'edge_type': 'is'}),\n",
       " ('FilterSliderCard', 'FilterPlotCard', {'edge_type': 'is'}),\n",
       " ('MemberDOBCard', 'FilterSliderCard', {'edge_type': 'is'}),\n",
       " ('MemberDOBCard', 'MemberDOBFigure', {'edge_type': 'uses'}),\n",
       " ('MembershipYearCard', 'FilterSliderCard', {'edge_type': 'is'}),\n",
       " ('MembershipYearCard', 'MembershipYearFigure', {'edge_type': 'uses'}),\n",
       " ('BookYearCard', 'FilterSliderCard', {'edge_type': 'is'}),\n",
       " ('BookYearCard', 'BookYearFigure', {'edge_type': 'uses'}),\n",
       " ('EventYearCard', 'FilterSliderCard', {'edge_type': 'is'}),\n",
       " ('EventYearCard', 'EventYearFigure', {'edge_type': 'uses'}),\n",
       " ('EventMonthCard', 'FilterSliderCard', {'edge_type': 'is'}),\n",
       " ('EventMonthCard', 'EventMonthFigure', {'edge_type': 'uses'}),\n",
       " ('MemberGenderCard', 'FilterPlotCard', {'edge_type': 'is'}),\n",
       " ('MemberGenderCard', 'MemberGenderFigure', {'edge_type': 'uses'}),\n",
       " ('MemberNationalityCard', 'FilterPlotCard', {'edge_type': 'is'}),\n",
       " ('MemberNationalityCard', 'MemberNationalityFigure', {'edge_type': 'uses'}),\n",
       " ('MemberArrondCard', 'FilterPlotCard', {'edge_type': 'is'}),\n",
       " ('MemberArrondCard', 'MemberArrondFigure', {'edge_type': 'uses'}),\n",
       " ('AuthorGenderCard', 'FilterPlotCard', {'edge_type': 'is'}),\n",
       " ('AuthorGenderCard', 'AuthorGenderFigure', {'edge_type': 'uses'}),\n",
       " ('BookGenreCard', 'FilterPlotCard', {'edge_type': 'is'}),\n",
       " ('BookGenreCard', 'BookGenreFigure', {'edge_type': 'uses'}),\n",
       " ('AuthorNationalityCard', 'FilterPlotCard', {'edge_type': 'is'}),\n",
       " ('AuthorNationalityCard', 'AuthorNationalityFigure', {'edge_type': 'uses'}),\n",
       " ('EventTypeCard', 'FilterPlotCard', {'edge_type': 'is'}),\n",
       " ('EventTypeCard', 'EventTypeFigure', {'edge_type': 'uses'}),\n",
       " ('FilterInputCard', 'FilterCard', {'edge_type': 'is'}),\n",
       " ('MemberNameCard', 'FilterInputCard', {'edge_type': 'is'}),\n",
       " ('MemberNameCard', 'MemberNameFigure', {'edge_type': 'uses'}),\n",
       " ('BookTitleCard', 'FilterInputCard', {'edge_type': 'is'}),\n",
       " ('BookTitleCard', 'BookTitleFigure', {'edge_type': 'uses'}),\n",
       " ('AuthorNameCard', 'FilterInputCard', {'edge_type': 'is'}),\n",
       " ('AuthorNameCard', 'AuthorNameFigure', {'edge_type': 'uses'}),\n",
       " ('FilterPanel', 'FilterCard', {'edge_type': 'is'}),\n",
       " ('MemberPanel', 'FilterPanel', {'edge_type': 'is'}),\n",
       " ('MemberPanel', 'CombinedFigureFactory', {'edge_type': 'uses'}),\n",
       " ('BookPanel', 'FilterPanel', {'edge_type': 'is'}),\n",
       " ('BookPanel', 'CombinedFigureFactory', {'edge_type': 'uses'}),\n",
       " ('CombinedPanel', 'FilterPanel', {'edge_type': 'is'}),\n",
       " ('LeftPanel', 'CombinedPanel', {'edge_type': 'is'}),\n",
       " ('RightPanel', 'CombinedPanel', {'edge_type': 'is'}),\n",
       " ('ComparisonPanel', 'BaseComponent', {'edge_type': 'is'}),\n",
       " ('ComparisonPanel', 'ComparisonFigureFactory', {'edge_type': 'uses'}),\n",
       " ('GeotasteLayout', 'BaseComponent', {'edge_type': 'is'})]"
      ]
     },
     "execution_count": 9,
     "metadata": {},
     "output_type": "execute_result"
    }
   ],
   "source": [
    "list(G.edges(data=True))\n"
   ]
  },
  {
   "cell_type": "code",
   "execution_count": 10,
   "metadata": {},
   "outputs": [
    {
     "name": "stderr",
     "output_type": "stream",
     "text": [
      "\u001b[32m2023-09-25 13:57:53.692\u001b[0m | \u001b[36mget_content\u001b[0m | \u001b[34m\u001b[1m[CombinedPanel] component getting content\u001b[0m | \u001b[36mcomponents.py\u001b[0m:\u001b[36m81\u001b[0m\n",
      "\u001b[32m2023-09-25 13:57:53.693\u001b[0m | \u001b[36mget_content\u001b[0m | \u001b[34m\u001b[1m[Filter_1] component getting content\u001b[0m | \u001b[36mcomponents.py\u001b[0m:\u001b[36m81\u001b[0m\n",
      "\u001b[32m2023-09-25 13:57:53.694\u001b[0m | \u001b[36mget_content\u001b[0m | \u001b[34m\u001b[1m[Filter_2] component getting content\u001b[0m | \u001b[36mcomponents.py\u001b[0m:\u001b[36m81\u001b[0m\n",
      "\u001b[32m2023-09-25 13:57:53.694\u001b[0m | \u001b[36mget_content\u001b[0m | \u001b[34m\u001b[1m[Filter_1] component getting content\u001b[0m | \u001b[36mcomponents.py\u001b[0m:\u001b[36m81\u001b[0m\n",
      "\u001b[32m2023-09-25 13:57:53.695\u001b[0m | \u001b[36mget_content\u001b[0m | \u001b[34m\u001b[1m[Filter_1] component getting content\u001b[0m | \u001b[36mcomponents.py\u001b[0m:\u001b[36m81\u001b[0m\n",
      "\u001b[32m2023-09-25 13:57:53.695\u001b[0m | \u001b[36mget_content\u001b[0m | \u001b[34m\u001b[1m[MP-Filter_1] component getting content\u001b[0m | \u001b[36mcomponents.py\u001b[0m:\u001b[36m81\u001b[0m\n",
      "\u001b[32m2023-09-25 13:57:53.696\u001b[0m | \u001b[36mcontent\u001b[0m | \u001b[34m\u001b[1m[MemberNameCard-MP-Filter_1] getting content for input card\u001b[0m | \u001b[36mcomponents.py\u001b[0m:\u001b[36m624\u001b[0m\n",
      "\u001b[32m2023-09-25 13:57:53.696\u001b[0m | \u001b[36mCombined\u001b[0m | \u001b[34m\u001b[1mCombined()\u001b[0m | \u001b[36mdatasets.py\u001b[0m:\u001b[36m585\u001b[0m\n",
      "\u001b[32m2023-09-25 13:57:55.005\u001b[0m | \u001b[36mget_content\u001b[0m | \u001b[34m\u001b[1m[BP-Filter_1] component getting content\u001b[0m | \u001b[36mcomponents.py\u001b[0m:\u001b[36m81\u001b[0m\n",
      "\u001b[32m2023-09-25 13:57:55.006\u001b[0m | \u001b[36mcontent\u001b[0m | \u001b[34m\u001b[1m[BookTitleCard-BP-Filter_1] getting content for input card\u001b[0m | \u001b[36mcomponents.py\u001b[0m:\u001b[36m624\u001b[0m\n",
      "\u001b[32m2023-09-25 13:57:55.596\u001b[0m | \u001b[36mcontent\u001b[0m | \u001b[34m\u001b[1m[AuthorNameCard-BP-Filter_1] getting content for input card\u001b[0m | \u001b[36mcomponents.py\u001b[0m:\u001b[36m624\u001b[0m\n",
      "\u001b[32m2023-09-25 13:57:56.526\u001b[0m | \u001b[36mget_content\u001b[0m | \u001b[34m\u001b[1m[Filter_2] component getting content\u001b[0m | \u001b[36mcomponents.py\u001b[0m:\u001b[36m81\u001b[0m\n",
      "\u001b[32m2023-09-25 13:57:56.527\u001b[0m | \u001b[36mget_content\u001b[0m | \u001b[34m\u001b[1m[Filter_2] component getting content\u001b[0m | \u001b[36mcomponents.py\u001b[0m:\u001b[36m81\u001b[0m\n",
      "\u001b[32m2023-09-25 13:57:56.528\u001b[0m | \u001b[36mget_content\u001b[0m | \u001b[34m\u001b[1m[MP-Filter_2] component getting content\u001b[0m | \u001b[36mcomponents.py\u001b[0m:\u001b[36m81\u001b[0m\n",
      "\u001b[32m2023-09-25 13:57:56.529\u001b[0m | \u001b[36mcontent\u001b[0m | \u001b[34m\u001b[1m[MemberNameCard-MP-Filter_2] getting content for input card\u001b[0m | \u001b[36mcomponents.py\u001b[0m:\u001b[36m624\u001b[0m\n",
      "\u001b[32m2023-09-25 13:57:57.533\u001b[0m | \u001b[36mget_content\u001b[0m | \u001b[34m\u001b[1m[BP-Filter_2] component getting content\u001b[0m | \u001b[36mcomponents.py\u001b[0m:\u001b[36m81\u001b[0m\n",
      "\u001b[32m2023-09-25 13:57:57.534\u001b[0m | \u001b[36mcontent\u001b[0m | \u001b[34m\u001b[1m[BookTitleCard-BP-Filter_2] getting content for input card\u001b[0m | \u001b[36mcomponents.py\u001b[0m:\u001b[36m624\u001b[0m\n"
     ]
    },
    {
     "data": {
      "text/plain": [
       "[<geotaste.panels.FilterPanel at 0x284c779d0>,\n",
       " <geotaste.panels.MemberPanel at 0x284c74340>,\n",
       " <geotaste.panels.BookPanel at 0x284c77f70>,\n",
       " <geotaste.panels.CombinedPanel at 0x284c77a90>,\n",
       " <geotaste.panels.LeftPanel at 0x107d4b700>,\n",
       " <geotaste.panels.RightPanel at 0x118b52d40>,\n",
       " <geotaste.panels.ComparisonPanel at 0x107d98d90>]"
      ]
     },
     "execution_count": 10,
     "metadata": {},
     "output_type": "execute_result"
    }
   ],
   "source": [
    "panels = [globals()[x]() for x in globals() if 'Panel' in x]\n",
    "panels"
   ]
  },
  {
   "cell_type": "code",
   "execution_count": null,
   "metadata": {},
   "outputs": [
    {
     "name": "stdout",
     "output_type": "stream",
     "text": [
      "MemberPanel MemberNameCard\n",
      "MemberPanel MembershipYearCard\n",
      "MemberPanel MemberDOBCard\n",
      "MemberPanel MemberGenderCard\n",
      "MemberPanel MemberNationalityCard\n",
      "MemberPanel MemberArrondCard\n",
      "BookPanel BookTitleCard\n",
      "BookPanel BookYearCard\n",
      "BookPanel BookGenreCard\n",
      "BookPanel AuthorNameCard\n",
      "BookPanel AuthorGenderCard\n",
      "BookPanel AuthorNationalityCard\n",
      "BookPanel EventYearCard\n",
      "BookPanel EventMonthCard\n",
      "CombinedPanel MemberPanel\n",
      "CombinedPanel BookPanel\n",
      "LeftPanel MemberPanel\n",
      "LeftPanel BookPanel\n",
      "RightPanel MemberPanel\n",
      "RightPanel BookPanel\n",
      "ComparisonPanel LeftPanel\n",
      "ComparisonPanel RightPanel\n"
     ]
    }
   ],
   "source": [
    "for panel in panels:\n",
    "    for sub in panel.subcomponents:\n",
    "        print(panel.__class__.__name__, sub.__class__.__name__)\n",
    "        G.add_edge(panel.__class__.__name__, sub.__class__.__name__, edge_type='has')"
   ]
  },
  {
   "cell_type": "code",
   "execution_count": null,
   "metadata": {},
   "outputs": [
    {
     "data": {
      "text/plain": [
       "<pydot.Dot at 0x16ac5f700>"
      ]
     },
     "execution_count": 12,
     "metadata": {},
     "output_type": "execute_result"
    }
   ],
   "source": [
    "for a,b,d in G.edges(data=True): G.edges[a,b]['label'] = d['edge_type']\n",
    "graph = nx.nx_pydot.to_pydot(G)\n",
    "graph"
   ]
  },
  {
   "cell_type": "code",
   "execution_count": null,
   "metadata": {},
   "outputs": [],
   "source": [
    "graph.set_rankdir('RL')\n",
    "graph.write_png('graph.png')\n",
    "!open graph.png"
   ]
  },
  {
   "cell_type": "code",
   "execution_count": null,
   "metadata": {},
   "outputs": [
    {
     "data": {
      "text/plain": [
       "3643"
      ]
     },
     "execution_count": 20,
     "metadata": {},
     "output_type": "execute_result"
    }
   ],
   "source": [
    "import inspect\n",
    "len(inspect.getsource(panels[0].__class__))"
   ]
  },
  {
   "cell_type": "code",
   "execution_count": null,
   "metadata": {},
   "outputs": [],
   "source": []
  },
  {
   "cell_type": "code",
   "execution_count": null,
   "metadata": {},
   "outputs": [],
   "source": []
  },
  {
   "cell_type": "code",
   "execution_count": null,
   "metadata": {},
   "outputs": [],
   "source": []
  },
  {
   "cell_type": "code",
   "execution_count": null,
   "metadata": {},
   "outputs": [],
   "source": []
  },
  {
   "cell_type": "code",
   "execution_count": null,
   "metadata": {},
   "outputs": [],
   "source": []
  },
  {
   "cell_type": "code",
   "execution_count": null,
   "metadata": {},
   "outputs": [],
   "source": []
  }
 ],
 "metadata": {
  "kernelspec": {
   "display_name": "venv",
   "language": "python",
   "name": "python3"
  },
  "language_info": {
   "codemirror_mode": {
    "name": "ipython",
    "version": 3
   },
   "file_extension": ".py",
   "mimetype": "text/x-python",
   "name": "python",
   "nbconvert_exporter": "python",
   "pygments_lexer": "ipython3",
   "version": "3.10.7"
  },
  "orig_nbformat": 4
 },
 "nbformat": 4,
 "nbformat_minor": 2
}
