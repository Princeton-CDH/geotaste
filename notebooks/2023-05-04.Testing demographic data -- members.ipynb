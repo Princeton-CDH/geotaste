{
 "cells": [
  {
   "attachments": {},
   "cell_type": "markdown",
   "metadata": {},
   "source": [
    "## Synthesizing data with time-sensitive location data"
   ]
  },
  {
   "cell_type": "code",
   "execution_count": 1,
   "metadata": {
    "tags": []
   },
   "outputs": [],
   "source": [
    "import sys; sys.path.insert(0,'..')\n",
    "from geotaste import *"
   ]
  },
  {
   "cell_type": "code",
   "execution_count": 2,
   "metadata": {},
   "outputs": [
    {
     "data": {
      "text/plain": [
       "uri                 https://shakespeareandco.princeton.edu/members...\n",
       "name                                                         Mary Ris\n",
       "sort_name                                                   Ris, Mary\n",
       "title                                                            Miss\n",
       "gender                                                         Female\n",
       "is_organization                                                 False\n",
       "has_card                                                        False\n",
       "birth_year                                                           \n",
       "death_year                                                           \n",
       "membership_years                                                 1927\n",
       "viaf_url                                                             \n",
       "wikipedia_url                                                        \n",
       "nationalities                                                        \n",
       "addresses                                                            \n",
       "postal_codes                                                         \n",
       "arrondissements                                                      \n",
       "coordinates                                                          \n",
       "notes                                                                \n",
       "updated                                     2019-11-19T14:47:36+00:00\n",
       "is_expat                                                         True\n",
       "has_wikipedia                                                   False\n",
       "has_viaf                                                        False\n",
       "birth_decade                                                         \n",
       "generation                                                           \n",
       "nation                                                               \n",
       "Name: ris-mary, dtype: object"
      ]
     },
     "execution_count": 2,
     "metadata": {},
     "output_type": "execute_result"
    }
   ],
   "source": [
    "df = get_members_df()\n",
    "df.sample(n=1).iloc[0]"
   ]
  },
  {
   "cell_type": "code",
   "execution_count": 11,
   "metadata": {},
   "outputs": [],
   "source": [
    "def get_member_choices():\n",
    "    df = get_members_df()\n",
    "\n",
    "    choices = [\n",
    "        # author name (sort alphabetically)\n",
    "        get_select(df.sort_name, 'sort_name', 'Name', sort_by_value=True),\n",
    "        \n",
    "        \n",
    "        \n",
    "        # title\n",
    "        get_select(df.title, 'title', 'Title', maxrows=5),\n",
    "\n",
    "        # # age of author\n",
    "        get_int_slider(df.birth_year, 'birth_year', 'Birth year'),\n",
    "        get_int_slider(df.death_year, 'death_year', 'Death year'),\n",
    "\n",
    "        \n",
    "        # gender (sort alphabetically)\n",
    "        get_select(df.gender, 'gender', 'Gender', sort_by_value=True),\n",
    "\n",
    "        # nationality\n",
    "        get_select(flatten_from(df.nationalities), 'nationalities_set', 'Nationality', sort_by_value=False),\n",
    "        get_select(df.is_expat, 'is_expat', 'Is Expat?', sort_by_value=True),\n",
    "\n",
    "        # membership\n",
    "        get_select(flatten_from(df.membership_years), 'membership_years_set', 'Membership', sort_by_value=True),\n",
    "\n",
    "        # arrond\n",
    "        get_select(flatten_from(df.arrondissements), 'arrondissements_set', 'Arrondissements', sort_by_value=False),\n",
    "\n",
    "        # expat\n",
    "        get_select(df.has_card, 'has_card', 'Has Card?', sort_by_value=True),\n",
    "        get_select(df.has_wikipedia, 'has_wikipedia', 'Has Wiki?', sort_by_value=True),\n",
    "        get_select(df.has_viaf, 'has_viaf', 'Has VIAF?', sort_by_value=True),\n",
    "        # gender (sort alphabetically)\n",
    "        get_select(df.generation, 'generation', 'Generation', sort_by_value=False),\n",
    "\n",
    "        \n",
    "    ]\n",
    "    return {ch.name:ch for ch in choices}"
   ]
  },
  {
   "cell_type": "code",
   "execution_count": 12,
   "metadata": {},
   "outputs": [
    {
     "data": {
      "text/markdown": [
       "### Members"
      ],
      "text/plain": [
       "<IPython.core.display.Markdown object>"
      ]
     },
     "metadata": {},
     "output_type": "display_data"
    },
    {
     "data": {
      "application/vnd.jupyter.widget-view+json": {
       "model_id": "c424951a40094fe3aed1ac8f33e34731",
       "version_major": 2,
       "version_minor": 0
      },
      "text/plain": [
       "SelectMultiple(description='Name', options=('\"Friend of Mlle Pottecher\"', '\"Friend of Renoir\"', 'Abbott, Beren…"
      ]
     },
     "metadata": {},
     "output_type": "display_data"
    },
    {
     "data": {
      "application/vnd.jupyter.widget-view+json": {
       "model_id": "149925dd3ac74b3a895d51db340cafaf",
       "version_major": 2,
       "version_minor": 0
      },
      "text/plain": [
       "SelectMultiple(description='Title', options=('(none)', 'Mr.', 'Miss', 'Mrs.', 'Mlle', 'Mme', 'M.', 'Dr.', 'Com…"
      ]
     },
     "metadata": {},
     "output_type": "display_data"
    },
    {
     "data": {
      "application/vnd.jupyter.widget-view+json": {
       "model_id": "e8deebd4a2da4d73ad027ba508c5f3cd",
       "version_major": 2,
       "version_minor": 0
      },
      "text/plain": [
       "IntRangeSlider(value=(1849, 1942), description='Birth year', max=1942, min=1849)"
      ]
     },
     "metadata": {},
     "output_type": "display_data"
    },
    {
     "data": {
      "application/vnd.jupyter.widget-view+json": {
       "model_id": "de8e08aadb2d4b669d049a013d741152",
       "version_major": 2,
       "version_minor": 0
      },
      "text/plain": [
       "IntRangeSlider(value=(1923, 2016), description='Death year', max=2016, min=1923)"
      ]
     },
     "metadata": {},
     "output_type": "display_data"
    },
    {
     "data": {
      "application/vnd.jupyter.widget-view+json": {
       "model_id": "38ac345dae7e4f1c8cdcf768c46d80bb",
       "version_major": 2,
       "version_minor": 0
      },
      "text/plain": [
       "SelectMultiple(description='Gender', options=('(none)', 'Female', 'Male', 'Nonbinary'), rows=4, value=())"
      ]
     },
     "metadata": {},
     "output_type": "display_data"
    },
    {
     "data": {
      "application/vnd.jupyter.widget-view+json": {
       "model_id": "da671379e6674e069b005d3fca804467",
       "version_major": 2,
       "version_minor": 0
      },
      "text/plain": [
       "SelectMultiple(description='Nationality', options=('(none)', 'United States', 'France', 'United Kingdom', 'Can…"
      ]
     },
     "metadata": {},
     "output_type": "display_data"
    },
    {
     "data": {
      "application/vnd.jupyter.widget-view+json": {
       "model_id": "f10df51d8a61482886d815a1734d0ff5",
       "version_major": 2,
       "version_minor": 0
      },
      "text/plain": [
       "SelectMultiple(description='Is Expat?', options=(False, True), rows=2, value=())"
      ]
     },
     "metadata": {},
     "output_type": "display_data"
    },
    {
     "data": {
      "application/vnd.jupyter.widget-view+json": {
       "model_id": "31d5dd2b98e648f59798a8328933112d",
       "version_major": 2,
       "version_minor": 0
      },
      "text/plain": [
       "SelectMultiple(description='Membership', options=('(none)', '1919', '1920', '1921', '1922', '1923', '1924', '1…"
      ]
     },
     "metadata": {},
     "output_type": "display_data"
    },
    {
     "data": {
      "application/vnd.jupyter.widget-view+json": {
       "model_id": "b71c05327d4c4a01a93229a7b1f6c59c",
       "version_major": 2,
       "version_minor": 0
      },
      "text/plain": [
       "SelectMultiple(description='Arrondissements', options=('(none)', '6', '5', '7', '14', '16', '8', '15', '17', '…"
      ]
     },
     "metadata": {},
     "output_type": "display_data"
    },
    {
     "data": {
      "application/vnd.jupyter.widget-view+json": {
       "model_id": "f721a33b9f5f480893d3f202a2d2a05c",
       "version_major": 2,
       "version_minor": 0
      },
      "text/plain": [
       "SelectMultiple(description='Has Card?', options=(False, True), rows=2, value=())"
      ]
     },
     "metadata": {},
     "output_type": "display_data"
    },
    {
     "data": {
      "application/vnd.jupyter.widget-view+json": {
       "model_id": "1b9782c34ac8463699365a35b7c5d4ae",
       "version_major": 2,
       "version_minor": 0
      },
      "text/plain": [
       "SelectMultiple(description='Has Wiki?', options=(False, True), rows=2, value=())"
      ]
     },
     "metadata": {},
     "output_type": "display_data"
    },
    {
     "data": {
      "application/vnd.jupyter.widget-view+json": {
       "model_id": "f99010b6188b4a2099fa7fe903553956",
       "version_major": 2,
       "version_minor": 0
      },
      "text/plain": [
       "SelectMultiple(description='Has VIAF?', options=(False, True), rows=2, value=())"
      ]
     },
     "metadata": {},
     "output_type": "display_data"
    },
    {
     "data": {
      "application/vnd.jupyter.widget-view+json": {
       "model_id": "5530dc4ee260476ba164c490d80fd10a",
       "version_major": 2,
       "version_minor": 0
      },
      "text/plain": [
       "SelectMultiple(description='Generation', options=('(none)', 'Lost Generation (1883-1900)', 'Greatest Generatio…"
      ]
     },
     "metadata": {},
     "output_type": "display_data"
    }
   ],
   "source": [
    "member_choices = get_member_choices()\n",
    "show_choices(member_choices, 'Members')"
   ]
  },
  {
   "cell_type": "code",
   "execution_count": 8,
   "metadata": {},
   "outputs": [
    {
     "name": "stdout",
     "output_type": "stream",
     "text": [
      "{'gender': ('', 'Nonbinary')}\n"
     ]
    },
    {
     "data": {
      "text/html": [
       "<div>\n",
       "<style scoped>\n",
       "    .dataframe tbody tr th:only-of-type {\n",
       "        vertical-align: middle;\n",
       "    }\n",
       "\n",
       "    .dataframe tbody tr th {\n",
       "        vertical-align: top;\n",
       "    }\n",
       "\n",
       "    .dataframe thead th {\n",
       "        text-align: right;\n",
       "    }\n",
       "</style>\n",
       "<table border=\"1\" class=\"dataframe\">\n",
       "  <thead>\n",
       "    <tr style=\"text-align: right;\">\n",
       "      <th></th>\n",
       "      <th>uri</th>\n",
       "      <th>name</th>\n",
       "      <th>sort_name</th>\n",
       "      <th>title</th>\n",
       "      <th>gender</th>\n",
       "      <th>is_organization</th>\n",
       "      <th>has_card</th>\n",
       "      <th>birth_year</th>\n",
       "      <th>death_year</th>\n",
       "      <th>membership_years</th>\n",
       "      <th>...</th>\n",
       "      <th>updated</th>\n",
       "      <th>is_expat</th>\n",
       "      <th>has_wikipedia</th>\n",
       "      <th>has_viaf</th>\n",
       "      <th>birth_decade</th>\n",
       "      <th>generation</th>\n",
       "      <th>nation</th>\n",
       "      <th>nationalities_set</th>\n",
       "      <th>membership_years_set</th>\n",
       "      <th>arrondissements_set</th>\n",
       "    </tr>\n",
       "    <tr>\n",
       "      <th>member_id</th>\n",
       "      <th></th>\n",
       "      <th></th>\n",
       "      <th></th>\n",
       "      <th></th>\n",
       "      <th></th>\n",
       "      <th></th>\n",
       "      <th></th>\n",
       "      <th></th>\n",
       "      <th></th>\n",
       "      <th></th>\n",
       "      <th></th>\n",
       "      <th></th>\n",
       "      <th></th>\n",
       "      <th></th>\n",
       "      <th></th>\n",
       "      <th></th>\n",
       "      <th></th>\n",
       "      <th></th>\n",
       "      <th></th>\n",
       "      <th></th>\n",
       "      <th></th>\n",
       "    </tr>\n",
       "  </thead>\n",
       "  <tbody>\n",
       "    <tr>\n",
       "      <th>pottecher-friend-of</th>\n",
       "      <td>https://shakespeareandco.princeton.edu/members...</td>\n",
       "      <td>\"Friend of Mlle Pottecher\"</td>\n",
       "      <td>\"Friend of Mlle Pottecher\"</td>\n",
       "      <td></td>\n",
       "      <td></td>\n",
       "      <td>False</td>\n",
       "      <td>False</td>\n",
       "      <td></td>\n",
       "      <td></td>\n",
       "      <td>1922</td>\n",
       "      <td>...</td>\n",
       "      <td>2021-06-15T21:29:51+00:00</td>\n",
       "      <td>True</td>\n",
       "      <td>False</td>\n",
       "      <td>False</td>\n",
       "      <td></td>\n",
       "      <td></td>\n",
       "      <td></td>\n",
       "      <td>{}</td>\n",
       "      <td>{1922}</td>\n",
       "      <td>{}</td>\n",
       "    </tr>\n",
       "    <tr>\n",
       "      <th>friend-of-renoir</th>\n",
       "      <td>https://shakespeareandco.princeton.edu/members...</td>\n",
       "      <td>\"Friend of Renoir\"</td>\n",
       "      <td>\"Friend of Renoir\"</td>\n",
       "      <td></td>\n",
       "      <td></td>\n",
       "      <td>False</td>\n",
       "      <td>False</td>\n",
       "      <td></td>\n",
       "      <td></td>\n",
       "      <td>1920;1921</td>\n",
       "      <td>...</td>\n",
       "      <td>2020-11-04T16:09:29+00:00</td>\n",
       "      <td>True</td>\n",
       "      <td>False</td>\n",
       "      <td>False</td>\n",
       "      <td></td>\n",
       "      <td></td>\n",
       "      <td></td>\n",
       "      <td>{}</td>\n",
       "      <td>{1920, 1921}</td>\n",
       "      <td>{}</td>\n",
       "    </tr>\n",
       "    <tr>\n",
       "      <th>abdul</th>\n",
       "      <td>https://shakespeareandco.princeton.edu/members...</td>\n",
       "      <td>Abdul</td>\n",
       "      <td>Abdul</td>\n",
       "      <td></td>\n",
       "      <td></td>\n",
       "      <td>False</td>\n",
       "      <td>False</td>\n",
       "      <td></td>\n",
       "      <td></td>\n",
       "      <td>1941</td>\n",
       "      <td>...</td>\n",
       "      <td>2019-12-22T01:57:37+00:00</td>\n",
       "      <td>True</td>\n",
       "      <td>False</td>\n",
       "      <td>False</td>\n",
       "      <td></td>\n",
       "      <td></td>\n",
       "      <td></td>\n",
       "      <td>{}</td>\n",
       "      <td>{1941}</td>\n",
       "      <td>{}</td>\n",
       "    </tr>\n",
       "    <tr>\n",
       "      <th>abelin</th>\n",
       "      <td>https://shakespeareandco.princeton.edu/members...</td>\n",
       "      <td>Abelin</td>\n",
       "      <td>Abelin</td>\n",
       "      <td></td>\n",
       "      <td></td>\n",
       "      <td>False</td>\n",
       "      <td>False</td>\n",
       "      <td></td>\n",
       "      <td></td>\n",
       "      <td>1933</td>\n",
       "      <td>...</td>\n",
       "      <td>2019-12-22T01:57:48+00:00</td>\n",
       "      <td>True</td>\n",
       "      <td>False</td>\n",
       "      <td>False</td>\n",
       "      <td></td>\n",
       "      <td></td>\n",
       "      <td></td>\n",
       "      <td>{}</td>\n",
       "      <td>{1933}</td>\n",
       "      <td>{}</td>\n",
       "    </tr>\n",
       "    <tr>\n",
       "      <th>abrahams</th>\n",
       "      <td>https://shakespeareandco.princeton.edu/members...</td>\n",
       "      <td>L. C. Abrahams</td>\n",
       "      <td>Abrahams, L. C.</td>\n",
       "      <td></td>\n",
       "      <td></td>\n",
       "      <td>False</td>\n",
       "      <td>False</td>\n",
       "      <td></td>\n",
       "      <td></td>\n",
       "      <td>1937</td>\n",
       "      <td>...</td>\n",
       "      <td>2021-08-15T00:40:29+00:00</td>\n",
       "      <td>True</td>\n",
       "      <td>False</td>\n",
       "      <td>False</td>\n",
       "      <td></td>\n",
       "      <td></td>\n",
       "      <td></td>\n",
       "      <td>{}</td>\n",
       "      <td>{1937}</td>\n",
       "      <td>{5}</td>\n",
       "    </tr>\n",
       "    <tr>\n",
       "      <th>...</th>\n",
       "      <td>...</td>\n",
       "      <td>...</td>\n",
       "      <td>...</td>\n",
       "      <td>...</td>\n",
       "      <td>...</td>\n",
       "      <td>...</td>\n",
       "      <td>...</td>\n",
       "      <td>...</td>\n",
       "      <td>...</td>\n",
       "      <td>...</td>\n",
       "      <td>...</td>\n",
       "      <td>...</td>\n",
       "      <td>...</td>\n",
       "      <td>...</td>\n",
       "      <td>...</td>\n",
       "      <td>...</td>\n",
       "      <td>...</td>\n",
       "      <td>...</td>\n",
       "      <td>...</td>\n",
       "      <td>...</td>\n",
       "      <td>...</td>\n",
       "    </tr>\n",
       "    <tr>\n",
       "      <th>van-altena-5</th>\n",
       "      <td>https://shakespeareandco.princeton.edu/members...</td>\n",
       "      <td>van Altena</td>\n",
       "      <td>van Altena</td>\n",
       "      <td></td>\n",
       "      <td></td>\n",
       "      <td>False</td>\n",
       "      <td>False</td>\n",
       "      <td></td>\n",
       "      <td></td>\n",
       "      <td>1933</td>\n",
       "      <td>...</td>\n",
       "      <td>2020-11-20T16:40:28+00:00</td>\n",
       "      <td>True</td>\n",
       "      <td>False</td>\n",
       "      <td>False</td>\n",
       "      <td></td>\n",
       "      <td></td>\n",
       "      <td></td>\n",
       "      <td>{}</td>\n",
       "      <td>{1933}</td>\n",
       "      <td>{}</td>\n",
       "    </tr>\n",
       "    <tr>\n",
       "      <th>altena-van</th>\n",
       "      <td>https://shakespeareandco.princeton.edu/members...</td>\n",
       "      <td>van Altena</td>\n",
       "      <td>van Altena</td>\n",
       "      <td></td>\n",
       "      <td></td>\n",
       "      <td>False</td>\n",
       "      <td>False</td>\n",
       "      <td></td>\n",
       "      <td></td>\n",
       "      <td>1935</td>\n",
       "      <td>...</td>\n",
       "      <td>2021-10-20T00:55:04.638612+00:00</td>\n",
       "      <td>True</td>\n",
       "      <td>False</td>\n",
       "      <td>False</td>\n",
       "      <td></td>\n",
       "      <td></td>\n",
       "      <td></td>\n",
       "      <td>{}</td>\n",
       "      <td>{1935}</td>\n",
       "      <td>{}</td>\n",
       "    </tr>\n",
       "    <tr>\n",
       "      <th>van-kalck</th>\n",
       "      <td>https://shakespeareandco.princeton.edu/members...</td>\n",
       "      <td>Van Kalck</td>\n",
       "      <td>van Kalck</td>\n",
       "      <td></td>\n",
       "      <td></td>\n",
       "      <td>False</td>\n",
       "      <td>False</td>\n",
       "      <td></td>\n",
       "      <td></td>\n",
       "      <td>1941</td>\n",
       "      <td>...</td>\n",
       "      <td>2020-11-25T18:14:52+00:00</td>\n",
       "      <td>True</td>\n",
       "      <td>False</td>\n",
       "      <td>False</td>\n",
       "      <td></td>\n",
       "      <td></td>\n",
       "      <td></td>\n",
       "      <td>{}</td>\n",
       "      <td>{1941}</td>\n",
       "      <td>{}</td>\n",
       "    </tr>\n",
       "    <tr>\n",
       "      <th>van-leeuhof</th>\n",
       "      <td>https://shakespeareandco.princeton.edu/members...</td>\n",
       "      <td>van Leeuhof</td>\n",
       "      <td>van Leeuhof</td>\n",
       "      <td></td>\n",
       "      <td></td>\n",
       "      <td>False</td>\n",
       "      <td>False</td>\n",
       "      <td></td>\n",
       "      <td></td>\n",
       "      <td>1928</td>\n",
       "      <td>...</td>\n",
       "      <td>2019-12-31T01:19:17+00:00</td>\n",
       "      <td>True</td>\n",
       "      <td>False</td>\n",
       "      <td>False</td>\n",
       "      <td></td>\n",
       "      <td></td>\n",
       "      <td></td>\n",
       "      <td>{}</td>\n",
       "      <td>{1928}</td>\n",
       "      <td>{}</td>\n",
       "    </tr>\n",
       "    <tr>\n",
       "      <th>van-zyl</th>\n",
       "      <td>https://shakespeareandco.princeton.edu/members...</td>\n",
       "      <td>van Zyl</td>\n",
       "      <td>van Zyl</td>\n",
       "      <td></td>\n",
       "      <td></td>\n",
       "      <td>False</td>\n",
       "      <td>False</td>\n",
       "      <td></td>\n",
       "      <td></td>\n",
       "      <td>1936;1935</td>\n",
       "      <td>...</td>\n",
       "      <td>2019-11-19T14:47:38+00:00</td>\n",
       "      <td>True</td>\n",
       "      <td>False</td>\n",
       "      <td>False</td>\n",
       "      <td></td>\n",
       "      <td></td>\n",
       "      <td></td>\n",
       "      <td>{}</td>\n",
       "      <td>{1935, 1936}</td>\n",
       "      <td>{}</td>\n",
       "    </tr>\n",
       "  </tbody>\n",
       "</table>\n",
       "<p>1185 rows × 28 columns</p>\n",
       "</div>"
      ],
      "text/plain": [
       "                                                                   uri  \\\n",
       "member_id                                                                \n",
       "pottecher-friend-of  https://shakespeareandco.princeton.edu/members...   \n",
       "friend-of-renoir     https://shakespeareandco.princeton.edu/members...   \n",
       "abdul                https://shakespeareandco.princeton.edu/members...   \n",
       "abelin               https://shakespeareandco.princeton.edu/members...   \n",
       "abrahams             https://shakespeareandco.princeton.edu/members...   \n",
       "...                                                                ...   \n",
       "van-altena-5         https://shakespeareandco.princeton.edu/members...   \n",
       "altena-van           https://shakespeareandco.princeton.edu/members...   \n",
       "van-kalck            https://shakespeareandco.princeton.edu/members...   \n",
       "van-leeuhof          https://shakespeareandco.princeton.edu/members...   \n",
       "van-zyl              https://shakespeareandco.princeton.edu/members...   \n",
       "\n",
       "                                           name                   sort_name  \\\n",
       "member_id                                                                     \n",
       "pottecher-friend-of  \"Friend of Mlle Pottecher\"  \"Friend of Mlle Pottecher\"   \n",
       "friend-of-renoir             \"Friend of Renoir\"          \"Friend of Renoir\"   \n",
       "abdul                                     Abdul                       Abdul   \n",
       "abelin                                   Abelin                      Abelin   \n",
       "abrahams                         L. C. Abrahams             Abrahams, L. C.   \n",
       "...                                         ...                         ...   \n",
       "van-altena-5                         van Altena                  van Altena   \n",
       "altena-van                           van Altena                  van Altena   \n",
       "van-kalck                             Van Kalck                   van Kalck   \n",
       "van-leeuhof                         van Leeuhof                 van Leeuhof   \n",
       "van-zyl                                 van Zyl                     van Zyl   \n",
       "\n",
       "                    title gender  is_organization  has_card birth_year  \\\n",
       "member_id                                                                \n",
       "pottecher-friend-of                         False     False              \n",
       "friend-of-renoir                            False     False              \n",
       "abdul                                       False     False              \n",
       "abelin                                      False     False              \n",
       "abrahams                                    False     False              \n",
       "...                   ...    ...              ...       ...        ...   \n",
       "van-altena-5                                False     False              \n",
       "altena-van                                  False     False              \n",
       "van-kalck                                   False     False              \n",
       "van-leeuhof                                 False     False              \n",
       "van-zyl                                     False     False              \n",
       "\n",
       "                    death_year membership_years  ...  \\\n",
       "member_id                                        ...   \n",
       "pottecher-friend-of                        1922  ...   \n",
       "friend-of-renoir                      1920;1921  ...   \n",
       "abdul                                      1941  ...   \n",
       "abelin                                     1933  ...   \n",
       "abrahams                                   1937  ...   \n",
       "...                        ...              ...  ...   \n",
       "van-altena-5                               1933  ...   \n",
       "altena-van                                 1935  ...   \n",
       "van-kalck                                  1941  ...   \n",
       "van-leeuhof                                1928  ...   \n",
       "van-zyl                               1936;1935  ...   \n",
       "\n",
       "                                              updated is_expat has_wikipedia  \\\n",
       "member_id                                                                      \n",
       "pottecher-friend-of         2021-06-15T21:29:51+00:00     True         False   \n",
       "friend-of-renoir            2020-11-04T16:09:29+00:00     True         False   \n",
       "abdul                       2019-12-22T01:57:37+00:00     True         False   \n",
       "abelin                      2019-12-22T01:57:48+00:00     True         False   \n",
       "abrahams                    2021-08-15T00:40:29+00:00     True         False   \n",
       "...                                               ...      ...           ...   \n",
       "van-altena-5                2020-11-20T16:40:28+00:00     True         False   \n",
       "altena-van           2021-10-20T00:55:04.638612+00:00     True         False   \n",
       "van-kalck                   2020-11-25T18:14:52+00:00     True         False   \n",
       "van-leeuhof                 2019-12-31T01:19:17+00:00     True         False   \n",
       "van-zyl                     2019-11-19T14:47:38+00:00     True         False   \n",
       "\n",
       "                    has_viaf birth_decade generation nation nationalities_set  \\\n",
       "member_id                                                                       \n",
       "pottecher-friend-of    False                                               {}   \n",
       "friend-of-renoir       False                                               {}   \n",
       "abdul                  False                                               {}   \n",
       "abelin                 False                                               {}   \n",
       "abrahams               False                                               {}   \n",
       "...                      ...          ...        ...    ...               ...   \n",
       "van-altena-5           False                                               {}   \n",
       "altena-van             False                                               {}   \n",
       "van-kalck              False                                               {}   \n",
       "van-leeuhof            False                                               {}   \n",
       "van-zyl                False                                               {}   \n",
       "\n",
       "                    membership_years_set  arrondissements_set  \n",
       "member_id                                                      \n",
       "pottecher-friend-of               {1922}                   {}  \n",
       "friend-of-renoir            {1920, 1921}                   {}  \n",
       "abdul                             {1941}                   {}  \n",
       "abelin                            {1933}                   {}  \n",
       "abrahams                          {1937}                  {5}  \n",
       "...                                  ...                  ...  \n",
       "van-altena-5                      {1933}                   {}  \n",
       "altena-van                        {1935}                   {}  \n",
       "van-kalck                         {1941}                   {}  \n",
       "van-leeuhof                       {1928}                   {}  \n",
       "van-zyl                     {1935, 1936}                   {}  \n",
       "\n",
       "[1185 rows x 28 columns]"
      ]
     },
     "execution_count": 8,
     "metadata": {},
     "output_type": "execute_result"
    }
   ],
   "source": [
    "odf, odesc = parse_member_choices(member_choices)\n",
    "print(odesc)\n",
    "odf"
   ]
  },
  {
   "cell_type": "code",
   "execution_count": null,
   "metadata": {},
   "outputs": [],
   "source": []
  }
 ],
 "metadata": {
  "kernelspec": {
   "display_name": "Python 3 (ipykernel)",
   "language": "python",
   "name": "python3"
  },
  "language_info": {
   "codemirror_mode": {
    "name": "ipython",
    "version": 3
   },
   "file_extension": ".py",
   "mimetype": "text/x-python",
   "name": "python",
   "nbconvert_exporter": "python",
   "pygments_lexer": "ipython3",
   "version": "3.8.14"
  }
 },
 "nbformat": 4,
 "nbformat_minor": 4
}
