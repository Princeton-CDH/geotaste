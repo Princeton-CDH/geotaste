{
 "cells": [
  {
   "cell_type": "code",
   "execution_count": 27,
   "metadata": {
    "tags": []
   },
   "outputs": [],
   "source": [
    "import sys; sys.path.insert(0,'..')\n",
    "from geotaste import *\n",
    "from ipywidgets import *\n",
    "from IPython.core.display import display, HTML\n",
    "import requests,json"
   ]
  },
  {
   "cell_type": "code",
   "execution_count": 28,
   "metadata": {
    "tags": []
   },
   "outputs": [
    {
     "data": {
      "text/plain": [
       "((31, 74), (33, 74))"
      ]
     },
     "execution_count": 28,
     "metadata": {},
     "output_type": "execute_result"
    }
   ],
   "source": [
    "df1=get_mapdf(book='joyce-ulysses')\n",
    "df2=get_mapdf(book='woolf-mrs-dalloway')\n",
    "(df1.shape, df2.shape)"
   ]
  },
  {
   "cell_type": "code",
   "execution_count": 15,
   "metadata": {
    "tags": []
   },
   "outputs": [],
   "source": [
    "# dict(df1.iloc[0])"
   ]
  },
  {
   "cell_type": "code",
   "execution_count": 34,
   "metadata": {
    "tags": []
   },
   "outputs": [],
   "source": [
    "@cache\n",
    "def get_geojson_arrondissement(force=False):\n",
    "    url='https://raw.githubusercontent.com/gregoiredavid/france-geojson/master/regions/ile-de-france/arrondissements-ile-de-france.geojson'\n",
    "    fn=os.path.join(path_data,'arrondissements.geojson')\n",
    "    if force or not os.path.exists(fn):\n",
    "        data = requests.get(url)\n",
    "        with open(fn,'wb') as of: \n",
    "            of.write(data.content)\n",
    "    with open(fn) as f:\n",
    "        return json.load(f)"
   ]
  },
  {
   "cell_type": "code",
   "execution_count": 35,
   "metadata": {
    "tags": []
   },
   "outputs": [
    {
     "name": "stdout",
     "output_type": "stream",
     "text": [
      "29.9 ns ± 0.0526 ns per loop (mean ± std. dev. of 7 runs, 10,000,000 loops each)\n"
     ]
    }
   ],
   "source": [
    "%%timeit\n",
    "get_geojson_arrondissement()"
   ]
  },
  {
   "cell_type": "code",
   "execution_count": null,
   "metadata": {},
   "outputs": [],
   "source": []
  },
  {
   "cell_type": "code",
   "execution_count": 5,
   "metadata": {
    "tags": []
   },
   "outputs": [],
   "source": [
    "def compare_heatmaps(df1,df2,width=600,height=400,**kwargs):\n",
    "    hmap1=draw_heatmap(df1,**kwargs)\n",
    "    hmap2=draw_heatmap(df2,**kwargs)\n",
    "    return compare_maps(hmap1,hmap2,width=width,height=height)\n",
    "\n",
    "def compare_maps(map1,map2,width=600,height=600,**kwargs):\n",
    "    src1=map1.get_root().render().replace('\"', '&quot;')\n",
    "    src2=map2.get_root().render().replace('\"', '&quot;')\n",
    "\n",
    "    htmlstr=f'<iframe srcdoc=\"[SRCDOC]\" style=\"float:left; width: {width}px; height: {height}px; display:inline-block; width: 49%; margin: 0 auto; border:0; background-color: rgba(0,0,0,0.0);\"></iframe>'\n",
    "    htmlstr=htmlstr.replace('[SRCDOC]',src1) + htmlstr.replace('[SRCDOC]',src2)\n",
    "\n",
    "    htmlmap = HTML(htmlstr)\n",
    "    return htmlmap"
   ]
  },
  {
   "cell_type": "code",
   "execution_count": null,
   "metadata": {},
   "outputs": [],
   "source": []
  },
  {
   "cell_type": "code",
   "execution_count": 6,
   "metadata": {
    "tags": []
   },
   "outputs": [
    {
     "data": {
      "text/html": [
       "<iframe srcdoc=\"<!DOCTYPE html>\n",
       "<html>\n",
       "<head>\n",
       "    \n",
       "    <meta http-equiv=&quot;content-type&quot; content=&quot;text/html; charset=UTF-8&quot; />\n",
       "    \n",
       "        <script>\n",
       "            L_NO_TOUCH = false;\n",
       "            L_DISABLE_3D = false;\n",
       "        </script>\n",
       "    \n",
       "    <style>html, body {width: 100%;height: 100%;margin: 0;padding: 0;}</style>\n",
       "    <style>#map {position:absolute;top:0;bottom:0;right:0;left:0;}</style>\n",
       "    <script src=&quot;https://cdn.jsdelivr.net/npm/leaflet@1.9.3/dist/leaflet.js&quot;></script>\n",
       "    <script src=&quot;https://code.jquery.com/jquery-1.12.4.min.js&quot;></script>\n",
       "    <script src=&quot;https://cdn.jsdelivr.net/npm/bootstrap@5.2.2/dist/js/bootstrap.bundle.min.js&quot;></script>\n",
       "    <script src=&quot;https://cdnjs.cloudflare.com/ajax/libs/Leaflet.awesome-markers/2.0.2/leaflet.awesome-markers.js&quot;></script>\n",
       "    <link rel=&quot;stylesheet&quot; href=&quot;https://cdn.jsdelivr.net/npm/leaflet@1.9.3/dist/leaflet.css&quot;/>\n",
       "    <link rel=&quot;stylesheet&quot; href=&quot;https://cdn.jsdelivr.net/npm/bootstrap@5.2.2/dist/css/bootstrap.min.css&quot;/>\n",
       "    <link rel=&quot;stylesheet&quot; href=&quot;https://netdna.bootstrapcdn.com/bootstrap/3.0.0/css/bootstrap.min.css&quot;/>\n",
       "    <link rel=&quot;stylesheet&quot; href=&quot;https://cdn.jsdelivr.net/npm/@fortawesome/fontawesome-free@6.2.0/css/all.min.css&quot;/>\n",
       "    <link rel=&quot;stylesheet&quot; href=&quot;https://cdnjs.cloudflare.com/ajax/libs/Leaflet.awesome-markers/2.0.2/leaflet.awesome-markers.css&quot;/>\n",
       "    <link rel=&quot;stylesheet&quot; href=&quot;https://cdn.jsdelivr.net/gh/python-visualization/folium/folium/templates/leaflet.awesome.rotate.min.css&quot;/>\n",
       "    \n",
       "            <meta name=&quot;viewport&quot; content=&quot;width=device-width,\n",
       "                initial-scale=1.0, maximum-scale=1.0, user-scalable=no&quot; />\n",
       "            <style>\n",
       "                #map_a71bb7052f774a04f5101d813a0b2849 {\n",
       "                    position: relative;\n",
       "                    width: 90.0%;\n",
       "                    height: 100.0%;\n",
       "                    left: 0.0%;\n",
       "                    top: 0.0%;\n",
       "                }\n",
       "                .leaflet-container { font-size: 1rem; }\n",
       "            </style>\n",
       "        \n",
       "    <script src=&quot;https://cdn.jsdelivr.net/gh/python-visualization/folium@main/folium/templates/leaflet_heat.min.js&quot;></script>\n",
       "</head>\n",
       "<body>\n",
       "    \n",
       "    \n",
       "            <div class=&quot;folium-map&quot; id=&quot;map_a71bb7052f774a04f5101d813a0b2849&quot; ></div>\n",
       "        \n",
       "</body>\n",
       "<script>\n",
       "    \n",
       "    \n",
       "            var map_a71bb7052f774a04f5101d813a0b2849 = L.map(\n",
       "                &quot;map_a71bb7052f774a04f5101d813a0b2849&quot;,\n",
       "                {\n",
       "                    center: [48.85107555543428, 2.3385039932538567],\n",
       "                    crs: L.CRS.EPSG3857,\n",
       "                    zoom: 13,\n",
       "                    zoomControl: false,\n",
       "                    preferCanvas: false,\n",
       "                    scrollWheelZoom: false,\n",
       "                    dragging: false,\n",
       "                }\n",
       "            );\n",
       "\n",
       "            \n",
       "\n",
       "        \n",
       "    \n",
       "            var tile_layer_01b89e9a8bafa27105d84c8401af0d2b = L.tileLayer(\n",
       "                &quot;https://{s}.tile.openstreetmap.org/{z}/{x}/{y}.png&quot;,\n",
       "                {&quot;attribution&quot;: &quot;Data by \\u0026copy; \\u003ca target=\\&quot;_blank\\&quot; href=\\&quot;http://openstreetmap.org\\&quot;\\u003eOpenStreetMap\\u003c/a\\u003e, under \\u003ca target=\\&quot;_blank\\&quot; href=\\&quot;http://www.openstreetmap.org/copyright\\&quot;\\u003eODbL\\u003c/a\\u003e.&quot;, &quot;detectRetina&quot;: false, &quot;maxNativeZoom&quot;: 18, &quot;maxZoom&quot;: 18, &quot;minZoom&quot;: 0, &quot;noWrap&quot;: false, &quot;opacity&quot;: 1, &quot;subdomains&quot;: &quot;abc&quot;, &quot;tms&quot;: false}\n",
       "            ).addTo(map_a71bb7052f774a04f5101d813a0b2849);\n",
       "        \n",
       "    \n",
       "            var heat_map_12e6cedb88d8318d052eac13e008b413 = L.heatLayer(\n",
       "                [[49.04918, 7.41851], [48.77874, 2.29994], [48.87165, 2.33374], [48.85362, 2.32732], [46.98897, 3.15872], [46.98897, 3.15872], [48.84005, 2.29648], [48.84005, 2.29648], [48.84752, 2.33213], [48.40468, 2.70162], [48.87948, 2.2728], [48.86538, 2.34259], [48.85092, 2.33845], [48.88123, 2.25701], [48.88123, 2.25701], [48.85016, 2.33825], [48.83268, 2.32808], [48.85648, 2.33606], [48.84911, 2.34228], [48.84264, 2.31681], [48.85819, 2.33226], [48.85596, 2.33698], [48.84868, 2.33246], [48.84868, 2.33246], [48.88731, 2.30661], [48.85446, 2.27067], [48.86038, 2.31904], [48.86038, 2.31904], [48.87391, 2.31386], [48.86286, 2.31734], [48.8458, 2.34217]],\n",
       "                {&quot;blur&quot;: 15, &quot;maxZoom&quot;: 18, &quot;minOpacity&quot;: 0.5, &quot;radius&quot;: 25}\n",
       "            ).addTo(map_a71bb7052f774a04f5101d813a0b2849);\n",
       "        \n",
       "</script>\n",
       "</html>\" style=\"float:left; width: 600px; height: 400px; display:inline-block; width: 49%; margin: 0 auto; border:0; background-color: rgba(0,0,0,0.0);\"></iframe><iframe srcdoc=\"<!DOCTYPE html>\n",
       "<html>\n",
       "<head>\n",
       "    \n",
       "    <meta http-equiv=&quot;content-type&quot; content=&quot;text/html; charset=UTF-8&quot; />\n",
       "    \n",
       "        <script>\n",
       "            L_NO_TOUCH = false;\n",
       "            L_DISABLE_3D = false;\n",
       "        </script>\n",
       "    \n",
       "    <style>html, body {width: 100%;height: 100%;margin: 0;padding: 0;}</style>\n",
       "    <style>#map {position:absolute;top:0;bottom:0;right:0;left:0;}</style>\n",
       "    <script src=&quot;https://cdn.jsdelivr.net/npm/leaflet@1.9.3/dist/leaflet.js&quot;></script>\n",
       "    <script src=&quot;https://code.jquery.com/jquery-1.12.4.min.js&quot;></script>\n",
       "    <script src=&quot;https://cdn.jsdelivr.net/npm/bootstrap@5.2.2/dist/js/bootstrap.bundle.min.js&quot;></script>\n",
       "    <script src=&quot;https://cdnjs.cloudflare.com/ajax/libs/Leaflet.awesome-markers/2.0.2/leaflet.awesome-markers.js&quot;></script>\n",
       "    <link rel=&quot;stylesheet&quot; href=&quot;https://cdn.jsdelivr.net/npm/leaflet@1.9.3/dist/leaflet.css&quot;/>\n",
       "    <link rel=&quot;stylesheet&quot; href=&quot;https://cdn.jsdelivr.net/npm/bootstrap@5.2.2/dist/css/bootstrap.min.css&quot;/>\n",
       "    <link rel=&quot;stylesheet&quot; href=&quot;https://netdna.bootstrapcdn.com/bootstrap/3.0.0/css/bootstrap.min.css&quot;/>\n",
       "    <link rel=&quot;stylesheet&quot; href=&quot;https://cdn.jsdelivr.net/npm/@fortawesome/fontawesome-free@6.2.0/css/all.min.css&quot;/>\n",
       "    <link rel=&quot;stylesheet&quot; href=&quot;https://cdnjs.cloudflare.com/ajax/libs/Leaflet.awesome-markers/2.0.2/leaflet.awesome-markers.css&quot;/>\n",
       "    <link rel=&quot;stylesheet&quot; href=&quot;https://cdn.jsdelivr.net/gh/python-visualization/folium/folium/templates/leaflet.awesome.rotate.min.css&quot;/>\n",
       "    \n",
       "            <meta name=&quot;viewport&quot; content=&quot;width=device-width,\n",
       "                initial-scale=1.0, maximum-scale=1.0, user-scalable=no&quot; />\n",
       "            <style>\n",
       "                #map_2c0b4a895e111675157417c5e21c94b8 {\n",
       "                    position: relative;\n",
       "                    width: 90.0%;\n",
       "                    height: 100.0%;\n",
       "                    left: 0.0%;\n",
       "                    top: 0.0%;\n",
       "                }\n",
       "                .leaflet-container { font-size: 1rem; }\n",
       "            </style>\n",
       "        \n",
       "    <script src=&quot;https://cdn.jsdelivr.net/gh/python-visualization/folium@main/folium/templates/leaflet_heat.min.js&quot;></script>\n",
       "</head>\n",
       "<body>\n",
       "    \n",
       "    \n",
       "            <div class=&quot;folium-map&quot; id=&quot;map_2c0b4a895e111675157417c5e21c94b8&quot; ></div>\n",
       "        \n",
       "</body>\n",
       "<script>\n",
       "    \n",
       "    \n",
       "            var map_2c0b4a895e111675157417c5e21c94b8 = L.map(\n",
       "                &quot;map_2c0b4a895e111675157417c5e21c94b8&quot;,\n",
       "                {\n",
       "                    center: [48.85107555543428, 2.3385039932538567],\n",
       "                    crs: L.CRS.EPSG3857,\n",
       "                    zoom: 13,\n",
       "                    zoomControl: false,\n",
       "                    preferCanvas: false,\n",
       "                    scrollWheelZoom: false,\n",
       "                    dragging: false,\n",
       "                }\n",
       "            );\n",
       "\n",
       "            \n",
       "\n",
       "        \n",
       "    \n",
       "            var tile_layer_5cb882513244d0c270052a53052387ee = L.tileLayer(\n",
       "                &quot;https://{s}.tile.openstreetmap.org/{z}/{x}/{y}.png&quot;,\n",
       "                {&quot;attribution&quot;: &quot;Data by \\u0026copy; \\u003ca target=\\&quot;_blank\\&quot; href=\\&quot;http://openstreetmap.org\\&quot;\\u003eOpenStreetMap\\u003c/a\\u003e, under \\u003ca target=\\&quot;_blank\\&quot; href=\\&quot;http://www.openstreetmap.org/copyright\\&quot;\\u003eODbL\\u003c/a\\u003e.&quot;, &quot;detectRetina&quot;: false, &quot;maxNativeZoom&quot;: 18, &quot;maxZoom&quot;: 18, &quot;minZoom&quot;: 0, &quot;noWrap&quot;: false, &quot;opacity&quot;: 1, &quot;subdomains&quot;: &quot;abc&quot;, &quot;tms&quot;: false}\n",
       "            ).addTo(map_2c0b4a895e111675157417c5e21c94b8);\n",
       "        \n",
       "    \n",
       "            var heat_map_e63fc5c44d05f20d6728e622f255a737 = L.heatLayer(\n",
       "                [[48.83463, 2.33007], [48.86515, 2.32868], [48.77874, 2.29994], [48.84826, 2.34045], [48.84826, 2.34045], [48.84005, 2.29648], [48.84752, 2.33213], [48.84095, 2.3305], [48.84095, 2.3305], [48.84855, 2.30906], [48.85092, 2.33845], [48.86254, 2.28107], [48.86254, 2.28107], [48.88445, 2.16617], [48.88445, 2.16617], [48.84475, 2.32936], [48.86174, 2.31076], [48.87044, 2.32924], [48.84982, 2.33666], [48.85721, 2.33635], [48.85999, 2.28506], [48.8351, 2.28321], [48.88131, 2.34512], [48.85433, 2.30431], [48.85819, 2.33226], [48.84461, 2.33221], [48.84898, 2.33197], [48.8443, 2.34739], [48.86856, 2.27847], [48.8458, 2.34217], [48.84418, 2.32198], [48.87066, 2.28302], [48.85882, 2.30301]],\n",
       "                {&quot;blur&quot;: 15, &quot;maxZoom&quot;: 18, &quot;minOpacity&quot;: 0.5, &quot;radius&quot;: 25}\n",
       "            ).addTo(map_2c0b4a895e111675157417c5e21c94b8);\n",
       "        \n",
       "</script>\n",
       "</html>\" style=\"float:left; width: 600px; height: 400px; display:inline-block; width: 49%; margin: 0 auto; border:0; background-color: rgba(0,0,0,0.0);\"></iframe>"
      ],
      "text/plain": [
       "<IPython.core.display.HTML object>"
      ]
     },
     "execution_count": 6,
     "metadata": {},
     "output_type": "execute_result"
    }
   ],
   "source": [
    "compare_heatmaps(df1,df2,zoom=False)"
   ]
  },
  {
   "cell_type": "code",
   "execution_count": null,
   "metadata": {},
   "outputs": [],
   "source": []
  },
  {
   "cell_type": "code",
   "execution_count": null,
   "metadata": {},
   "outputs": [],
   "source": []
  }
 ],
 "metadata": {
  "kernelspec": {
   "display_name": "Python 3 (ipykernel)",
   "language": "python",
   "name": "python3"
  },
  "language_info": {
   "codemirror_mode": {
    "name": "ipython",
    "version": 3
   },
   "file_extension": ".py",
   "mimetype": "text/x-python",
   "name": "python",
   "nbconvert_exporter": "python",
   "pygments_lexer": "ipython3",
   "version": "3.8.14"
  },
  "vscode": {
   "interpreter": {
    "hash": "f2b765c925b74616dee80bad0b9f42de2708682ef1852fb59fca406183cde0ff"
   }
  }
 },
 "nbformat": 4,
 "nbformat_minor": 4
}
