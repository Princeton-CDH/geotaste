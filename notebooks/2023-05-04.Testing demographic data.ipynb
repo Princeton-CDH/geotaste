{
 "cells": [
  {
   "attachments": {},
   "cell_type": "markdown",
   "metadata": {},
   "source": [
    "## Synthesizing data with time-sensitive location data"
   ]
  },
  {
   "cell_type": "code",
   "execution_count": 3,
   "metadata": {
    "tags": []
   },
   "outputs": [],
   "source": [
    "import sys; sys.path.insert(0,'..')\n",
    "from geotaste import *\n"
   ]
  },
  {
   "cell_type": "code",
   "execution_count": 4,
   "metadata": {},
   "outputs": [],
   "source": [
    "def unique_vals(l, sort_by_count=True, sort_by_value=False):\n",
    "    l = [x for x in l if x]\n",
    "    lset=set(l)\n",
    "    ll=list(lset)\n",
    "    if sort_by_value:\n",
    "        return sorted(ll)\n",
    "    elif sort_by_count:\n",
    "        lcount=Counter(l)\n",
    "        return sorted(ll, key=lambda word: lcount[word], reverse=True)\n",
    "    else:\n",
    "        return ll        \n",
    "    \n",
    "def get_dropdown(l, name='', desc='', sort_by_count=True, sort_by_value=False):\n",
    "    o = Dropdown(\n",
    "        options=['*'] + unique_vals(l, sort_by_count=sort_by_count, sort_by_value=sort_by_value),\n",
    "        description=desc\n",
    "    )\n",
    "    o.name = name\n",
    "    return o"
   ]
  },
  {
   "cell_type": "code",
   "execution_count": 7,
   "metadata": {},
   "outputs": [],
   "source": [
    "# get_authors_df().iloc[0]"
   ]
  },
  {
   "cell_type": "code",
   "execution_count": null,
   "metadata": {},
   "outputs": [],
   "source": []
  },
  {
   "cell_type": "code",
   "execution_count": 23,
   "metadata": {},
   "outputs": [],
   "source": [
    "def get_author_choices():\n",
    "    # Author filters\n",
    "    df = get_authors_df()\n",
    "\n",
    "    ## custom\n",
    "    byears = pd.to_numeric(df.author_birth_year,errors='coerce')\n",
    "    bminval = int(byears.min())\n",
    "    bmaxval = int(byears.max())\n",
    "    \n",
    "    birthyear_slider=widgets.IntRangeSlider(\n",
    "        value=[bminval, bmaxval],\n",
    "        min=bminval,\n",
    "        max=bmaxval,\n",
    "        step=1,\n",
    "        description='Birth year',\n",
    "    )\n",
    "    birthyear_slider.name='author_birth_year'\n",
    "\n",
    "    choices = [\n",
    "        # author name (sort alphabetically)\n",
    "        get_dropdown(df.author_name, 'author_name', 'Name', sort_by_value=True),\n",
    "        \n",
    "        # gender (sort alphabetically)\n",
    "        get_dropdown(df.author_gender, 'author_gender', 'Gender', sort_by_value=True),\n",
    "\n",
    "        # nationality\n",
    "        get_dropdown(df.author_nationality, 'author_nationality', 'Nationality'),\n",
    "\n",
    "        # language\n",
    "        get_dropdown(df.author_language, 'author_language', 'Language'),\n",
    "\n",
    "        # age of author\n",
    "        birthyear_slider,\n",
    "    ]\n",
    "    return {ch.name:ch for ch in choices}"
   ]
  },
  {
   "cell_type": "code",
   "execution_count": 24,
   "metadata": {},
   "outputs": [],
   "source": [
    "choices = get_author_choices()"
   ]
  },
  {
   "cell_type": "code",
   "execution_count": 25,
   "metadata": {},
   "outputs": [
    {
     "data": {
      "application/vnd.jupyter.widget-view+json": {
       "model_id": "789e87e4ceb14ab48f8be84b4a1555f0",
       "version_major": 2,
       "version_minor": 0
      },
      "text/plain": [
       "Dropdown(description='Name', options=('*', 'A. A. Brill', 'A. A. Milne', 'A. Brewster', 'A. C. Benson', 'A. C.…"
      ]
     },
     "metadata": {},
     "output_type": "display_data"
    },
    {
     "data": {
      "application/vnd.jupyter.widget-view+json": {
       "model_id": "b3368f79caf04d259ef81a07e979d68d",
       "version_major": 2,
       "version_minor": 0
      },
      "text/plain": [
       "Dropdown(description='Gender', options=('*', 'Female', 'Male'), value='*')"
      ]
     },
     "metadata": {},
     "output_type": "display_data"
    },
    {
     "data": {
      "application/vnd.jupyter.widget-view+json": {
       "model_id": "883fe7070d054029854efdd442e6f623",
       "version_major": 2,
       "version_minor": 0
      },
      "text/plain": [
       "Dropdown(description='Nationality', options=('*', 'GB - United Kingdom', 'US - United States', 'FR - France', …"
      ]
     },
     "metadata": {},
     "output_type": "display_data"
    },
    {
     "data": {
      "application/vnd.jupyter.widget-view+json": {
       "model_id": "acc3d1144f22450eb7255a9cd1ee831e",
       "version_major": 2,
       "version_minor": 0
      },
      "text/plain": [
       "Dropdown(description='Language', options=('*', 'eng - English', 'fre - French', 'ger - German', 'rus - Russian…"
      ]
     },
     "metadata": {},
     "output_type": "display_data"
    },
    {
     "data": {
      "application/vnd.jupyter.widget-view+json": {
       "model_id": "e9c9e63de4e24cc990c1a2872b425754",
       "version_major": 2,
       "version_minor": 0
      },
      "text/plain": [
       "IntRangeSlider(value=(-551, 1942), description='Birth year', max=1942, min=-551)"
      ]
     },
     "metadata": {},
     "output_type": "display_data"
    }
   ],
   "source": [
    "for y,x in choices.items(): display(x)"
   ]
  },
  {
   "cell_type": "code",
   "execution_count": null,
   "metadata": {},
   "outputs": [],
   "source": []
  },
  {
   "cell_type": "code",
   "execution_count": 57,
   "metadata": {},
   "outputs": [],
   "source": [
    "def parse_author_choices(choices):\n",
    "    return parse_choices(\n",
    "        choices,\n",
    "        get_authors_df()\n",
    "    )\n",
    "\n",
    "def parse_choices(choices, df):\n",
    "    for key,choice in choices.items():\n",
    "        if type(choice)==Dropdown and choice.value!='*':\n",
    "            df = df[df[choice.name]==choice.value]\n",
    "\n",
    "        if type(choice) in {widgets.IntRangeSlider}:\n",
    "            minv,maxv = choice.value\n",
    "            df[f'{choice.name}_q']=pd.to_numeric(\n",
    "                df[choice.name], errors='coerce'\n",
    "            )\n",
    "            df = df.query(f'{minv} <= {choice.name}_q <= {maxv}')\n",
    "    return df"
   ]
  },
  {
   "cell_type": "code",
   "execution_count": 58,
   "metadata": {},
   "outputs": [],
   "source": [
    "choice = parse_author_choices(choices)"
   ]
  },
  {
   "cell_type": "code",
   "execution_count": null,
   "metadata": {},
   "outputs": [],
   "source": []
  },
  {
   "cell_type": "code",
   "execution_count": null,
   "metadata": {},
   "outputs": [],
   "source": []
  }
 ],
 "metadata": {
  "kernelspec": {
   "display_name": "Python 3 (ipykernel)",
   "language": "python",
   "name": "python3"
  },
  "language_info": {
   "codemirror_mode": {
    "name": "ipython",
    "version": 3
   },
   "file_extension": ".py",
   "mimetype": "text/x-python",
   "name": "python",
   "nbconvert_exporter": "python",
   "pygments_lexer": "ipython3",
   "version": "3.8.14"
  }
 },
 "nbformat": 4,
 "nbformat_minor": 4
}
